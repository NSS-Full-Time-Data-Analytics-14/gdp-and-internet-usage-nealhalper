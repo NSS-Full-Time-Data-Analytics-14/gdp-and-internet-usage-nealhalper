{
 "cells": [
  {
   "cell_type": "code",
   "execution_count": 1,
   "id": "bdd60857-3bcb-45dc-b04b-42f04eef9b5d",
   "metadata": {},
   "outputs": [],
   "source": [
    "#3\n",
    "import pandas as pd\n",
    "import numpy as np\n",
    "import matplotlib.pyplot as plt\n",
    "import seaborn as sns"
   ]
  },
  {
   "cell_type": "code",
   "execution_count": 2,
   "id": "6362dbb8-c54f-4f91-bd61-7768864a1da9",
   "metadata": {},
   "outputs": [
    {
     "data": {
      "text/html": [
       "<div>\n",
       "<style scoped>\n",
       "    .dataframe tbody tr th:only-of-type {\n",
       "        vertical-align: middle;\n",
       "    }\n",
       "\n",
       "    .dataframe tbody tr th {\n",
       "        vertical-align: top;\n",
       "    }\n",
       "\n",
       "    .dataframe thead th {\n",
       "        text-align: right;\n",
       "    }\n",
       "</style>\n",
       "<table border=\"1\" class=\"dataframe\">\n",
       "  <thead>\n",
       "    <tr style=\"text-align: right;\">\n",
       "      <th></th>\n",
       "      <th>Country or Area</th>\n",
       "      <th>Year</th>\n",
       "      <th>Value</th>\n",
       "      <th>Value Footnotes</th>\n",
       "    </tr>\n",
       "  </thead>\n",
       "  <tbody>\n",
       "    <tr>\n",
       "      <th>0</th>\n",
       "      <td>Afghanistan</td>\n",
       "      <td>2021</td>\n",
       "      <td>1517.016266</td>\n",
       "      <td>NaN</td>\n",
       "    </tr>\n",
       "    <tr>\n",
       "      <th>1</th>\n",
       "      <td>Afghanistan</td>\n",
       "      <td>2020</td>\n",
       "      <td>1968.341002</td>\n",
       "      <td>NaN</td>\n",
       "    </tr>\n",
       "    <tr>\n",
       "      <th>2</th>\n",
       "      <td>Afghanistan</td>\n",
       "      <td>2019</td>\n",
       "      <td>2079.921861</td>\n",
       "      <td>NaN</td>\n",
       "    </tr>\n",
       "    <tr>\n",
       "      <th>3</th>\n",
       "      <td>Afghanistan</td>\n",
       "      <td>2018</td>\n",
       "      <td>2060.698973</td>\n",
       "      <td>NaN</td>\n",
       "    </tr>\n",
       "    <tr>\n",
       "      <th>4</th>\n",
       "      <td>Afghanistan</td>\n",
       "      <td>2017</td>\n",
       "      <td>2096.093111</td>\n",
       "      <td>NaN</td>\n",
       "    </tr>\n",
       "  </tbody>\n",
       "</table>\n",
       "</div>"
      ],
      "text/plain": [
       "  Country or Area  Year        Value  Value Footnotes\n",
       "0     Afghanistan  2021  1517.016266              NaN\n",
       "1     Afghanistan  2020  1968.341002              NaN\n",
       "2     Afghanistan  2019  2079.921861              NaN\n",
       "3     Afghanistan  2018  2060.698973              NaN\n",
       "4     Afghanistan  2017  2096.093111              NaN"
      ]
     },
     "execution_count": 2,
     "metadata": {},
     "output_type": "execute_result"
    }
   ],
   "source": [
    "#4\n",
    "gdp_df = pd.read_csv('../data/gdp_percapita.csv')\n",
    "gdp_df.head()"
   ]
  },
  {
   "cell_type": "code",
   "execution_count": 3,
   "id": "dabc7435-512c-45e3-8c8b-2a6cec07ba58",
   "metadata": {
    "scrolled": true
   },
   "outputs": [
    {
     "data": {
      "text/plain": [
       "(7662, 4)"
      ]
     },
     "execution_count": 3,
     "metadata": {},
     "output_type": "execute_result"
    }
   ],
   "source": [
    "#5\n",
    "gdp_df.shape"
   ]
  },
  {
   "cell_type": "markdown",
   "id": "ee8a2136-5412-44cd-b32b-dea9e2d87a5b",
   "metadata": {},
   "source": [
    "#### Question 5 part 1\n",
    "7662 rows\n",
    "4 columns"
   ]
  },
  {
   "cell_type": "code",
   "execution_count": 5,
   "id": "f35cfd15-1933-46c8-8ff5-fc952620ac5e",
   "metadata": {},
   "outputs": [
    {
     "data": {
      "text/plain": [
       "Country or Area     object\n",
       "Year                 int64\n",
       "Value              float64\n",
       "Value Footnotes    float64\n",
       "dtype: object"
      ]
     },
     "execution_count": 5,
     "metadata": {},
     "output_type": "execute_result"
    }
   ],
   "source": [
    "#5\n",
    "gdp_df.dtypes"
   ]
  },
  {
   "cell_type": "markdown",
   "id": "4b856462-90b8-4d1c-bdca-9eb24a05c698",
   "metadata": {},
   "source": [
    "#### Question 5 part 2\n",
    "Country or Area  =  object\n",
    "***\n",
    "Year = int64\n",
    "***\n",
    "Value = float64\n",
    "***\n",
    "Value Footnotes = float64"
   ]
  },
  {
   "cell_type": "code",
   "execution_count": 7,
   "id": "8042ecfb-1efc-4a8b-a700-5c8ac4925fb5",
   "metadata": {},
   "outputs": [],
   "source": [
    "#6\n",
    "gdp_df = gdp_df.drop(columns = ['Value Footnotes'])\n",
    "gdp_df = gdp_df.rename(columns = {'Country or Area':'Country','Value':'GDP_Per_Capita'})"
   ]
  },
  {
   "cell_type": "code",
   "execution_count": 8,
   "id": "91e5a450-8968-48a2-9591-cd20fcb00e0f",
   "metadata": {},
   "outputs": [],
   "source": [
    "#7\n",
    "data_complete = gdp_df.Country.value_counts().reset_index().sort_values(by = 'count', ascending = True)\n",
    "data_complete = data_complete.loc[data_complete['count'] == max(gdp_df.Year) - min(gdp_df.Year) + 1]"
   ]
  },
  {
   "cell_type": "markdown",
   "id": "84f00761-2c1e-4175-938f-1c1cceb683ba",
   "metadata": {},
   "source": [
    "#### Question 7 part 1 \n",
    "202 countries with complete data"
   ]
  },
  {
   "cell_type": "code",
   "execution_count": 10,
   "id": "672acbee-ceb4-40f8-b307-1fbeaeb2feff",
   "metadata": {},
   "outputs": [],
   "source": [
    "#7\n",
    "countries_missing_data = gdp_df.Country.value_counts().reset_index().sort_values(by = 'count', ascending = True)\n",
    "countries_missing_data = countries_missing_data.loc[countries_missing_data['count'] < max(gdp_df.Year) - min(gdp_df.Year) + 1]"
   ]
  },
  {
   "cell_type": "markdown",
   "id": "81b09ce2-a32a-4802-a5f2-b24532a2bd1b",
   "metadata": {},
   "source": [
    "#### Question 7 part 2 & 3\n",
    "40 countries with incomplete data\n",
    "****\n",
    "Countries with less than half of data:\n",
    "* Djibouti\n",
    "* Somalia\n",
    "* Turks and Caicos Islands\n",
    "* Sint Maarten (Dutch part)\n",
    "* Kosovo\n",
    "* Cayman Islands"
   ]
  },
  {
   "cell_type": "code",
   "execution_count": 12,
   "id": "bc93e7ef-e643-405f-93ae-49a95c6f4a53",
   "metadata": {},
   "outputs": [
    {
     "data": {
      "text/plain": [
       "<function matplotlib.pyplot.show(close=None, block=None)>"
      ]
     },
     "execution_count": 12,
     "metadata": {},
     "output_type": "execute_result"
    },
    {
     "data": {
      "image/png": "[encoded data removed]",
      "text/plain": [
       "<Figure size 640x480 with 1 Axes>"
      ]
     },
     "metadata": {},
     "output_type": "display_data"
    }
   ],
   "source": [
    "#8\n",
    "sns.histplot(gdp_df[\"GDP_Per_Capita\"].loc[gdp_df.Year == 2020], kde=True)\n",
    "plt.show"
   ]
  },
  {
   "cell_type": "code",
   "execution_count": 13,
   "id": "3d1f0d09-b8ed-4343-8614-6e812f216e03",
   "metadata": {},
   "outputs": [
    {
     "data": {
      "text/plain": [
       "<function matplotlib.pyplot.show(close=None, block=None)>"
      ]
     },
     "execution_count": 13,
     "metadata": {},
     "output_type": "execute_result"
    },
    {
     "data": {
      "image/png": "[encoded data removed]",
      "text/plain": [
       "<Figure size 640x480 with 1 Axes>"
      ]
     },
     "metadata": {},
     "output_type": "display_data"
    }
   ],
   "source": [
    "#8\n",
    "sns.kdeplot(gdp_df[\"GDP_Per_Capita\"].loc[gdp_df.Year == 2020], fill=True)\n",
    "plt.show"
   ]
  },
  {
   "cell_type": "code",
   "execution_count": 14,
   "id": "23d42eca-348e-4e10-a31a-3b1b3d2edaf7",
   "metadata": {},
   "outputs": [
    {
     "data": {
      "image/png": "[encoded data removed]",
      "text/plain": [
       "<Figure size 640x480 with 1 Axes>"
      ]
     },
     "metadata": {},
     "output_type": "display_data"
    }
   ],
   "source": [
    "#8\n",
    "sns.violinplot(gdp_df.GDP_Per_Capita.loc[gdp_df.Year == 2020])\n",
    "plt.show()"
   ]
  },
  {
   "cell_type": "code",
   "execution_count": 15,
   "id": "5e2ef08d-8d87-471a-ac7f-84b266232a7d",
   "metadata": {},
   "outputs": [
    {
     "data": {
      "image/png": "[encoded data removed]",
      "text/plain": [
       "<Figure size 640x480 with 1 Axes>"
      ]
     },
     "metadata": {},
     "output_type": "display_data"
    }
   ],
   "source": [
    "#8\n",
    "sns.boxplot(gdp_df.GDP_Per_Capita.loc[gdp_df.Year == 2020])\n",
    "plt.show()"
   ]
  },
  {
   "cell_type": "code",
   "execution_count": 16,
   "id": "eacba65f-cd84-4b41-a51c-168c87bf6c7a",
   "metadata": {},
   "outputs": [
    {
     "data": {
      "text/plain": [
       "13358.0"
      ]
     },
     "execution_count": 16,
     "metadata": {},
     "output_type": "execute_result"
    }
   ],
   "source": [
    "#9\n",
    "round(gdp_df.GDP_Per_Capita.loc[gdp_df.Year == 2020].median(), 2)"
   ]
  },
  {
   "cell_type": "markdown",
   "id": "7998c7a5-3f66-4231-bf30-013c2a1647db",
   "metadata": {},
   "source": [
    "#### Question 9 \n",
    "Median GDP per Capita in 2020 : 13358.0"
   ]
  },
  {
   "cell_type": "code",
   "execution_count": 18,
   "id": "1490b9db-5e21-4edb-9c22-4ef61214e53d",
   "metadata": {},
   "outputs": [],
   "source": [
    "#10\n",
    "gdp_decades = pd.DataFrame()\n",
    "gdp_decades = gdp_df[gdp_df[\"Year\"].isin([1990,2000,2010,2020])]"
   ]
  },
  {
   "cell_type": "code",
   "execution_count": 19,
   "id": "0d19786e-88bd-4c8a-80a8-f40d5a02a9cb",
   "metadata": {},
   "outputs": [
    {
     "data": {
      "image/png": "[encoded data removed]",
      "text/plain": [
       "<Figure size 640x480 with 1 Axes>"
      ]
     },
     "metadata": {},
     "output_type": "display_data"
    }
   ],
   "source": [
    "#10\n",
    "sns.boxplot(x=gdp_decades[\"Year\"], y=gdp_decades[\"GDP_Per_Capita\"])\n",
    "plt.show()"
   ]
  },
  {
   "cell_type": "code",
   "execution_count": 20,
   "id": "74564767-f0b4-484c-b263-b34c507b52cd",
   "metadata": {},
   "outputs": [
    {
     "data": {
      "image/png": "[encoded data removed]",
      "text/plain": [
       "<Figure size 640x480 with 1 Axes>"
      ]
     },
     "metadata": {},
     "output_type": "display_data"
    }
   ],
   "source": [
    "#10\n",
    "sns.barplot(\n",
    "    x=\"Year\", \n",
    "    y=\"GDP_Per_Capita\", \n",
    "    data=gdp_decades, \n",
    "    estimator=sum,  \n",
    "    color='#69b3a2');"
   ]
  },
  {
   "cell_type": "code",
   "execution_count": 21,
   "id": "4af8efdb-0ff3-4df6-a4e2-8bbaeb7fca75",
   "metadata": {},
   "outputs": [
    {
     "data": {
      "image/png": "[encoded data removed]",
      "text/plain": [
       "<Figure size 640x480 with 1 Axes>"
      ]
     },
     "metadata": {},
     "output_type": "display_data"
    }
   ],
   "source": [
    "#10\n",
    "sns.scatterplot(x=gdp_decades[\"Year\"], y=gdp_decades[\"GDP_Per_Capita\"])\n",
    "plt.show()"
   ]
  },
  {
   "cell_type": "code",
   "execution_count": 22,
   "id": "8a19d334-01b4-4459-ac90-caaea7faa407",
   "metadata": {},
   "outputs": [
    {
     "data": {
      "image/png": "[encoded data removed]",
      "text/plain": [
       "<Figure size 640x480 with 1 Axes>"
      ]
     },
     "metadata": {},
     "output_type": "display_data"
    }
   ],
   "source": [
    "#10\n",
    "sns.regplot(\n",
    "    x=gdp_decades[\"Year\"],\n",
    "    y=gdp_decades[\"GDP_Per_Capita\"],\n",
    "    line_kws={\"color\": \"red\", \"linewidth\": 1.5},\n",
    ")\n",
    "plt.show()"
   ]
  },
  {
   "cell_type": "code",
   "execution_count": 23,
   "id": "771af1d8-f289-4667-a43c-a889a2fad4be",
   "metadata": {},
   "outputs": [
    {
     "data": {
      "text/plain": [
       "7302    United Arab Emirates\n",
       "Name: Country, dtype: object"
      ]
     },
     "execution_count": 23,
     "metadata": {},
     "output_type": "execute_result"
    }
   ],
   "source": [
    "#11\n",
    "gdp_df.loc[gdp_df[\"GDP_Per_Capita\"] > 100000].sort_values(by = \"Year\", ascending=True).head(1)['Country']"
   ]
  },
  {
   "cell_type": "markdown",
   "id": "90c8ff3d-6ff0-4ba4-8622-091c2fae59ad",
   "metadata": {},
   "source": [
    "#### Question 11\n",
    "United Arab Emirates"
   ]
  },
  {
   "cell_type": "code",
   "execution_count": 25,
   "id": "b5db9e4e-4d63-421e-af71-0ce95809a459",
   "metadata": {},
   "outputs": [
    {
     "data": {
      "text/plain": [
       "4148    Luxembourg\n",
       "Name: Country, dtype: object"
      ]
     },
     "execution_count": 25,
     "metadata": {},
     "output_type": "execute_result"
    }
   ],
   "source": [
    "#12\n",
    "highest_gdp_2020 = gdp_df.loc[gdp_df[\"Year\"] == 2020].sort_values(by = \"GDP_Per_Capita\", ascending=False).head(1)['Country']"
   ]
  },
  {
   "cell_type": "markdown",
   "id": "6a9c20a5-507b-46e5-a826-364115ac0734",
   "metadata": {},
   "source": [
    "#### Question 12\n",
    "Luxemborg"
   ]
  },
  {
   "cell_type": "code",
   "execution_count": 27,
   "id": "84df1c79-ae3f-4816-8755-0844cf312a68",
   "metadata": {},
   "outputs": [
    {
     "data": {
      "image/png": "[encoded data removed]",
      "text/plain": [
       "<Figure size 640x480 with 1 Axes>"
      ]
     },
     "metadata": {},
     "output_type": "display_data"
    }
   ],
   "source": [
    "#12\n",
    "plt.plot('Year', 'GDP_Per_Capita', data=gdp_df.loc[gdp_df[\"Country\"] == 'Luxembourg'])\n",
    "plt.show()"
   ]
  },
  {
   "cell_type": "code",
   "execution_count": 28,
   "id": "e635c78a-53aa-4510-b97e-852637361278",
   "metadata": {},
   "outputs": [
    {
     "data": {
      "text/plain": [
       "973    Burundi\n",
       "Name: Country, dtype: object"
      ]
     },
     "execution_count": 28,
     "metadata": {},
     "output_type": "execute_result"
    }
   ],
   "source": [
    "#13\n",
    "lowest_gdp_2020 = gdp_df.loc[gdp_df[\"Year\"] == 2020].sort_values(by = \"GDP_Per_Capita\", ascending=True).head(1)['Country']"
   ]
  },
  {
   "cell_type": "markdown",
   "id": "b4d77003-2ab7-4cb7-9622-a4da80658243",
   "metadata": {},
   "source": [
    "#### Question 13 \n",
    "Burundi"
   ]
  },
  {
   "cell_type": "code",
   "execution_count": 30,
   "id": "dbbd17db-0eb6-4469-b61c-ce68986be168",
   "metadata": {},
   "outputs": [
    {
     "data": {
      "image/png": "[encoded data removed]",
      "text/plain": [
       "<Figure size 640x480 with 1 Axes>"
      ]
     },
     "metadata": {},
     "output_type": "display_data"
    }
   ],
   "source": [
    "#13\n",
    "plt.plot('Year', 'GDP_Per_Capita', data=gdp_df.loc[gdp_df[\"Country\"] == 'Burundi'])\n",
    "plt.show()"
   ]
  },
  {
   "cell_type": "code",
   "execution_count": 55,
   "id": "229bf967-8080-40b7-b896-2f613d1cb277",
   "metadata": {},
   "outputs": [
    {
     "data": {
      "text/html": [
       "<div>\n",
       "<style scoped>\n",
       "    .dataframe tbody tr th:only-of-type {\n",
       "        vertical-align: middle;\n",
       "    }\n",
       "\n",
       "    .dataframe tbody tr th {\n",
       "        vertical-align: top;\n",
       "    }\n",
       "\n",
       "    .dataframe thead th {\n",
       "        text-align: right;\n",
       "    }\n",
       "</style>\n",
       "<table border=\"1\" class=\"dataframe\">\n",
       "  <thead>\n",
       "    <tr style=\"text-align: right;\">\n",
       "      <th></th>\n",
       "      <th>Country</th>\n",
       "      <th>Year</th>\n",
       "      <th>Internet_Users_Pct</th>\n",
       "    </tr>\n",
       "  </thead>\n",
       "  <tbody>\n",
       "    <tr>\n",
       "      <th>0</th>\n",
       "      <td>Afghanistan</td>\n",
       "      <td>2019</td>\n",
       "      <td>17.60</td>\n",
       "    </tr>\n",
       "    <tr>\n",
       "      <th>1</th>\n",
       "      <td>Afghanistan</td>\n",
       "      <td>2018</td>\n",
       "      <td>16.80</td>\n",
       "    </tr>\n",
       "    <tr>\n",
       "      <th>2</th>\n",
       "      <td>Afghanistan</td>\n",
       "      <td>2017</td>\n",
       "      <td>13.50</td>\n",
       "    </tr>\n",
       "    <tr>\n",
       "      <th>3</th>\n",
       "      <td>Afghanistan</td>\n",
       "      <td>2016</td>\n",
       "      <td>11.00</td>\n",
       "    </tr>\n",
       "    <tr>\n",
       "      <th>4</th>\n",
       "      <td>Afghanistan</td>\n",
       "      <td>2015</td>\n",
       "      <td>8.26</td>\n",
       "    </tr>\n",
       "  </tbody>\n",
       "</table>\n",
       "</div>"
      ],
      "text/plain": [
       "       Country  Year  Internet_Users_Pct\n",
       "0  Afghanistan  2019               17.60\n",
       "1  Afghanistan  2018               16.80\n",
       "2  Afghanistan  2017               13.50\n",
       "3  Afghanistan  2016               11.00\n",
       "4  Afghanistan  2015                8.26"
      ]
     },
     "execution_count": 55,
     "metadata": {},
     "output_type": "execute_result"
    }
   ],
   "source": [
    "#14/#15\n",
    "internet_df = pd.read_csv('../data/internet_use.csv', nrows=6083)\n",
    "internet_df = internet_df.drop(columns = ['Value Footnotes'])\n",
    "internet_df = internet_df.rename(columns = {\"Country or Area\" : \"Country\", \"Value\" : \"Internet_Users_Pct\"})\n",
    "internet_df.head()"
   ]
  },
  {
   "cell_type": "code",
   "execution_count": 57,
   "id": "c0733a9e-81ba-4d29-a9d3-f0c52372c7c0",
   "metadata": {},
   "outputs": [
    {
     "data": {
      "text/html": [
       "<div>\n",
       "<style scoped>\n",
       "    .dataframe tbody tr th:only-of-type {\n",
       "        vertical-align: middle;\n",
       "    }\n",
       "\n",
       "    .dataframe tbody tr th {\n",
       "        vertical-align: top;\n",
       "    }\n",
       "\n",
       "    .dataframe thead th {\n",
       "        text-align: right;\n",
       "    }\n",
       "</style>\n",
       "<table border=\"1\" class=\"dataframe\">\n",
       "  <thead>\n",
       "    <tr style=\"text-align: right;\">\n",
       "      <th></th>\n",
       "      <th>Country</th>\n",
       "      <th>Year</th>\n",
       "      <th>Internet_Users_Pct</th>\n",
       "    </tr>\n",
       "  </thead>\n",
       "  <tbody>\n",
       "    <tr>\n",
       "      <th>6078</th>\n",
       "      <td>Zimbabwe</td>\n",
       "      <td>1997</td>\n",
       "      <td>0.033080</td>\n",
       "    </tr>\n",
       "    <tr>\n",
       "      <th>6079</th>\n",
       "      <td>Zimbabwe</td>\n",
       "      <td>1996</td>\n",
       "      <td>0.016790</td>\n",
       "    </tr>\n",
       "    <tr>\n",
       "      <th>6080</th>\n",
       "      <td>Zimbabwe</td>\n",
       "      <td>1995</td>\n",
       "      <td>0.007684</td>\n",
       "    </tr>\n",
       "    <tr>\n",
       "      <th>6081</th>\n",
       "      <td>Zimbabwe</td>\n",
       "      <td>1994</td>\n",
       "      <td>0.001739</td>\n",
       "    </tr>\n",
       "    <tr>\n",
       "      <th>6082</th>\n",
       "      <td>Zimbabwe</td>\n",
       "      <td>1990</td>\n",
       "      <td>0.000000</td>\n",
       "    </tr>\n",
       "  </tbody>\n",
       "</table>\n",
       "</div>"
      ],
      "text/plain": [
       "       Country  Year  Internet_Users_Pct\n",
       "6078  Zimbabwe  1997            0.033080\n",
       "6079  Zimbabwe  1996            0.016790\n",
       "6080  Zimbabwe  1995            0.007684\n",
       "6081  Zimbabwe  1994            0.001739\n",
       "6082  Zimbabwe  1990            0.000000"
      ]
     },
     "execution_count": 57,
     "metadata": {},
     "output_type": "execute_result"
    }
   ],
   "source": [
    "#14\n",
    "internet_df.tail()"
   ]
  },
  {
   "cell_type": "code",
   "execution_count": 159,
   "id": "49209ad2-5acf-4ad6-9d23-7ee14760a6c2",
   "metadata": {},
   "outputs": [],
   "source": [
    "#16\n",
    "countsperyear = internet_df.Year.value_counts().reset_index().sort_values(by ='Year', ascending=False)"
   ]
  },
  {
   "cell_type": "markdown",
   "id": "a909f387-bde0-4f16-9069-3f4345df0757",
   "metadata": {},
   "source": [
    "#### Question 16\n",
    "1991-1994 & 2023 are exceptionally low "
   ]
  },
  {
   "cell_type": "code",
   "execution_count": 92,
   "id": "2d337449-c7aa-4fb8-b5f8-048f0b2c44e0",
   "metadata": {},
   "outputs": [
    {
     "data": {
      "text/plain": [
       "1570    1990\n",
       "Name: Year, dtype: int64"
      ]
     },
     "execution_count": 92,
     "metadata": {},
     "output_type": "execute_result"
    }
   ],
   "source": [
    "#17\n",
    "first_year_internet_use = internet_df.loc[internet_df[\"Internet_Users_Pct\"] > 0.0].sort_values(by = 'Year', ascending=True).head(1)['Year']"
   ]
  },
  {
   "cell_type": "markdown",
   "id": "ac269153-fa2b-41e4-8e35-a828adda13b0",
   "metadata": {},
   "source": [
    "#### Question 17\n",
    "First year internet use above 0 was 1990"
   ]
  },
  {
   "cell_type": "code",
   "execution_count": 64,
   "id": "a6d18010-e12b-4d98-ab40-89c881a9caee",
   "metadata": {},
   "outputs": [
    {
     "data": {
      "image/png": "[encoded data removed]",
      "text/plain": [
       "<Figure size 640x480 with 1 Axes>"
      ]
     },
     "metadata": {},
     "output_type": "display_data"
    }
   ],
   "source": [
    "#18\n",
    "sns.set_theme(style=\"darkgrid\")\n",
    "sns.histplot(data=internet_df.loc[internet_df[\"Year\"] == 2000], x=\"Internet_Users_Pct\", bins=5, color=\"skyblue\", label=\"2000\", kde=True)\n",
    "sns.histplot(data=internet_df.loc[internet_df[\"Year\"] == 2014], x=\"Internet_Users_Pct\", bins=5, color=\"red\", label=\"2014\", kde=True)\n",
    "\n",
    "plt.legend() \n",
    "plt.show()"
   ]
  },
  {
   "cell_type": "code",
   "execution_count": 71,
   "id": "dafe2d99-9ca8-4cea-87cc-30a1b32a9217",
   "metadata": {},
   "outputs": [
    {
     "data": {
      "text/plain": [
       "10"
      ]
     },
     "execution_count": 71,
     "metadata": {},
     "output_type": "execute_result"
    }
   ],
   "source": [
    "#19\n",
    "internet_df.loc[(internet_df[\"Year\"] == 2014) & (internet_df[\"Internet_Users_Pct\"] < 5)].value_counts().sum()"
   ]
  },
  {
   "cell_type": "markdown",
   "id": "ace8d92a-6b34-4425-bf4e-213a4b917e30",
   "metadata": {},
   "source": [
    "#### Question 19 \n",
    "In 2014, 10 countries lower than 5% of the population using the internet in 2014"
   ]
  },
  {
   "cell_type": "code",
   "execution_count": 73,
   "id": "11fc95ab-9a61-4e78-bc22-6808f3d51eb6",
   "metadata": {},
   "outputs": [
    {
     "data": {
      "text/html": [
       "<div>\n",
       "<style scoped>\n",
       "    .dataframe tbody tr th:only-of-type {\n",
       "        vertical-align: middle;\n",
       "    }\n",
       "\n",
       "    .dataframe tbody tr th {\n",
       "        vertical-align: top;\n",
       "    }\n",
       "\n",
       "    .dataframe thead th {\n",
       "        text-align: right;\n",
       "    }\n",
       "</style>\n",
       "<table border=\"1\" class=\"dataframe\">\n",
       "  <thead>\n",
       "    <tr style=\"text-align: right;\">\n",
       "      <th></th>\n",
       "      <th>Country</th>\n",
       "      <th>Year</th>\n",
       "      <th>GDP_Per_Capita</th>\n",
       "      <th>Internet_Users_Pct</th>\n",
       "    </tr>\n",
       "  </thead>\n",
       "  <tbody>\n",
       "    <tr>\n",
       "      <th>0</th>\n",
       "      <td>Afghanistan</td>\n",
       "      <td>1990</td>\n",
       "      <td>NaN</td>\n",
       "      <td>0.000000</td>\n",
       "    </tr>\n",
       "    <tr>\n",
       "      <th>1</th>\n",
       "      <td>Afghanistan</td>\n",
       "      <td>2001</td>\n",
       "      <td>NaN</td>\n",
       "      <td>0.004723</td>\n",
       "    </tr>\n",
       "    <tr>\n",
       "      <th>2</th>\n",
       "      <td>Afghanistan</td>\n",
       "      <td>2002</td>\n",
       "      <td>1280.463171</td>\n",
       "      <td>0.004561</td>\n",
       "    </tr>\n",
       "    <tr>\n",
       "      <th>3</th>\n",
       "      <td>Afghanistan</td>\n",
       "      <td>2003</td>\n",
       "      <td>1292.333437</td>\n",
       "      <td>0.087891</td>\n",
       "    </tr>\n",
       "    <tr>\n",
       "      <th>4</th>\n",
       "      <td>Afghanistan</td>\n",
       "      <td>2004</td>\n",
       "      <td>1260.060581</td>\n",
       "      <td>0.105809</td>\n",
       "    </tr>\n",
       "  </tbody>\n",
       "</table>\n",
       "</div>"
      ],
      "text/plain": [
       "       Country  Year  GDP_Per_Capita  Internet_Users_Pct\n",
       "0  Afghanistan  1990             NaN            0.000000\n",
       "1  Afghanistan  2001             NaN            0.004723\n",
       "2  Afghanistan  2002     1280.463171            0.004561\n",
       "3  Afghanistan  2003     1292.333437            0.087891\n",
       "4  Afghanistan  2004     1260.060581            0.105809"
      ]
     },
     "execution_count": 73,
     "metadata": {},
     "output_type": "execute_result"
    }
   ],
   "source": [
    "#20\n",
    "gdp_and_internet_use = gdp_df.merge(internet_df, how = 'outer', on = [\"Country\",\"Year\"])\n",
    "gdp_and_internet_use.head()"
   ]
  },
  {
   "cell_type": "code",
   "execution_count": 75,
   "id": "12f1b23d-a6ba-4760-869c-36215f42bed2",
   "metadata": {},
   "outputs": [
    {
     "data": {
      "text/html": [
       "<div>\n",
       "<style scoped>\n",
       "    .dataframe tbody tr th:only-of-type {\n",
       "        vertical-align: middle;\n",
       "    }\n",
       "\n",
       "    .dataframe tbody tr th {\n",
       "        vertical-align: top;\n",
       "    }\n",
       "\n",
       "    .dataframe thead th {\n",
       "        text-align: right;\n",
       "    }\n",
       "</style>\n",
       "<table border=\"1\" class=\"dataframe\">\n",
       "  <thead>\n",
       "    <tr style=\"text-align: right;\">\n",
       "      <th></th>\n",
       "      <th>Country</th>\n",
       "      <th>Year</th>\n",
       "      <th>GDP_Per_Capita</th>\n",
       "      <th>Internet_Users_Pct</th>\n",
       "    </tr>\n",
       "  </thead>\n",
       "  <tbody>\n",
       "    <tr>\n",
       "      <th>9107</th>\n",
       "      <td>Zimbabwe</td>\n",
       "      <td>2018</td>\n",
       "      <td>2399.621551</td>\n",
       "      <td>25.0000</td>\n",
       "    </tr>\n",
       "    <tr>\n",
       "      <th>9108</th>\n",
       "      <td>Zimbabwe</td>\n",
       "      <td>2019</td>\n",
       "      <td>2203.396810</td>\n",
       "      <td>26.5883</td>\n",
       "    </tr>\n",
       "    <tr>\n",
       "      <th>9109</th>\n",
       "      <td>Zimbabwe</td>\n",
       "      <td>2020</td>\n",
       "      <td>1990.319419</td>\n",
       "      <td>29.2986</td>\n",
       "    </tr>\n",
       "    <tr>\n",
       "      <th>9110</th>\n",
       "      <td>Zimbabwe</td>\n",
       "      <td>2021</td>\n",
       "      <td>2115.144555</td>\n",
       "      <td>32.4616</td>\n",
       "    </tr>\n",
       "    <tr>\n",
       "      <th>9111</th>\n",
       "      <td>Zimbabwe</td>\n",
       "      <td>2022</td>\n",
       "      <td>2143.237574</td>\n",
       "      <td>32.5615</td>\n",
       "    </tr>\n",
       "  </tbody>\n",
       "</table>\n",
       "</div>"
      ],
      "text/plain": [
       "       Country  Year  GDP_Per_Capita  Internet_Users_Pct\n",
       "9107  Zimbabwe  2018     2399.621551             25.0000\n",
       "9108  Zimbabwe  2019     2203.396810             26.5883\n",
       "9109  Zimbabwe  2020     1990.319419             29.2986\n",
       "9110  Zimbabwe  2021     2115.144555             32.4616\n",
       "9111  Zimbabwe  2022     2143.237574             32.5615"
      ]
     },
     "execution_count": 75,
     "metadata": {},
     "output_type": "execute_result"
    }
   ],
   "source": [
    "#20\n",
    "gdp_and_internet_use.tail()"
   ]
  },
  {
   "cell_type": "code",
   "execution_count": 165,
   "id": "7c352c31-d5d8-4681-961f-2bcace63e59d",
   "metadata": {},
   "outputs": [
    {
     "data": {
      "text/plain": [
       "3820                        Iceland\n",
       "2780    Falkland (Malvinas) Islands\n",
       "794                         Bermuda\n",
       "6243                         Norway\n",
       "Name: Country, dtype: object"
      ]
     },
     "execution_count": 165,
     "metadata": {},
     "output_type": "execute_result"
    }
   ],
   "source": [
    "top3_2014 = gdp_and_internet_use.loc[gdp_and_internet_use[\"Year\"] == 2014].nlargest(4, 'Internet_Users_Pct')['Country']"
   ]
  },
  {
   "cell_type": "markdown",
   "id": "0af0e56b-6387-4a0e-be69-da5dbd9ec351",
   "metadata": {},
   "source": [
    "#### Question 21 \n",
    "Top 3 in 2014 were Iceland, Falkland Islands, and Bermuda\n",
    "Falkland Islands would't populate graph in Facetgrid, \n",
    "so I used Norway because it had the next highest Internet Users Pct in 2014"
   ]
  },
  {
   "cell_type": "code",
   "execution_count": 181,
   "id": "aa2a307c-2f13-4004-a8c5-1d53fe5c98f8",
   "metadata": {},
   "outputs": [
    {
     "data": {
      "text/plain": [
       "<seaborn.axisgrid.FacetGrid at 0x20d87733e90>"
      ]
     },
     "execution_count": 181,
     "metadata": {},
     "output_type": "execute_result"
    },
    {
     "data": {
      "image/png": "[encoded data removed]",
      "text/plain": [
       "<Figure size 912.222x300 with 3 Axes>"
      ]
     },
     "metadata": {},
     "output_type": "display_data"
    }
   ],
   "source": [
    "#21\n",
    "top3_overtime = gdp_df.loc[gdp_df[\"Country\"].isin(['Iceland', 'Falkland (Malvinas) Islands', 'Bermuda', 'Norway'])]\n",
    "g = sns.FacetGrid(top3_overtime, col = \"Country\")\n",
    "g.map(sns.lineplot, \"Year\", \"GDP_Per_Capita\")\n",
    "g.add_legend()"
   ]
  },
  {
   "cell_type": "code",
   "execution_count": 183,
   "id": "6d907671-8a28-4f73-be72-72beec9c90a2",
   "metadata": {},
   "outputs": [],
   "source": [
    "#22\n",
    "gdp_and_internet_use_2014 = gdp_and_internet_use.loc[gdp_and_internet_use[\"Year\"] == 2014]"
   ]
  },
  {
   "cell_type": "code",
   "execution_count": 185,
   "id": "6c2a638d-5d83-4a9c-befd-015faccf3225",
   "metadata": {},
   "outputs": [
    {
     "data": {
      "image/png": "[encoded data removed]",
      "text/plain": [
       "<Figure size 800x600 with 1 Axes>"
      ]
     },
     "metadata": {},
     "output_type": "display_data"
    }
   ],
   "source": [
    "#23\n",
    "fig, ax = plt.subplots(figsize=(8, 6))\n",
    "graph = sns.regplot(\n",
    "    x=gdp_and_internet_use_2014[\"GDP_Per_Capita\"],\n",
    "    y=gdp_and_internet_use_2014[\"Internet_Users_Pct\"],\n",
    "    line_kws={\"color\": \"red\", \"linewidth\": 1.5},\n",
    "    ax=ax\n",
    ")\n",
    "graph.set_ylim(bottom = -10, top = 110)\n",
    "plt.show()"
   ]
  },
  {
   "cell_type": "code",
   "execution_count": 187,
   "id": "4a3fedd3-c508-4e4e-862a-b7aae46d5c01",
   "metadata": {},
   "outputs": [
    {
     "data": {
      "application/vnd.plotly.v1+json": {
       "config": {
        "plotlyServerURL": "https://plot.ly"
       },
       "data": [
        {
         "hovertemplate": "<b>%{hovertext}</b><br><br>GDP_Per_Capita=%{x}<br>Internet_Users_Pct=%{y}<extra></extra>",
         "hovertext": [
          "Afghanistan",
          "Africa Eastern and Southern",
          "Africa Western and Central",
          "Albania",
          "Algeria",
          "Andorra",
          "Angola",
          "Anguilla",
          "Antigua and Barbuda",
          "Arab World",
          "Argentina",
          "Armenia",
          "Aruba",
          "Australia",
          "Austria",
          "Azerbaijan",
          "Bahamas",
          "Bahrain",
          "Bangladesh",
          "Barbados",
          "Belarus",
          "Belgium",
          "Belize",
          "Benin",
          "Bermuda",
          "Bhutan",
          "Bolivia",
          "Bolivia (Plurinational State of)",
          "Bosnia and Herzegovina",
          "Botswana",
          "Brazil",
          "Brunei",
          "Brunei Darussalam",
          "Bulgaria",
          "Burkina Faso",
          "Burundi",
          "Cabo Verde",
          "Cambodia",
          "Cameroon",
          "Canada",
          "Caribbean small states",
          "Cayman Islands",
          "Central African Republic",
          "Central Europe and the Baltics",
          "Chad",
          "Chile",
          "China",
          "China, Hong Kong Special Administrative Region",
          "China, Macao Special Administrative Region",
          "Colombia",
          "Comoros",
          "Congo",
          "Congo (Republic of the)",
          "Cook Islands",
          "Costa Rica",
          "Croatia",
          "Cuba",
          "CuraÃ§ao",
          "Cyprus",
          "Czech Republic",
          "Czechia",
          "CÃ´te d'Ivoire",
          "Côte d'Ivoire",
          "Dem. Rep. Congo",
          "Democratic Republic of the Congo",
          "Denmark",
          "Djibouti",
          "Dominica",
          "Dominican Republic",
          "Early-demographic dividend",
          "East Asia & Pacific",
          "East Asia & Pacific (IDA & IBRD)",
          "East Asia & Pacific (excluding high income)",
          "Ecuador",
          "Egypt",
          "El Salvador",
          "Equatorial Guinea",
          "Eritrea",
          "Estonia",
          "Eswatini",
          "Ethiopia",
          "Euro area",
          "Europe & Central Asia",
          "Europe & Central Asia (IDA & IBRD)",
          "Europe & Central Asia (excluding high income)",
          "European Union",
          "Falkland (Malvinas) Islands",
          "Faroe Islands",
          "Fiji",
          "Finland",
          "Fragile and conflict affected situations",
          "France",
          "French Polynesia",
          "Gabon",
          "Gambia",
          "Georgia",
          "Germany",
          "Ghana",
          "Greece",
          "Greenland",
          "Grenada",
          "Guam",
          "Guatemala",
          "Guinea",
          "Guinea-Bissau",
          "Guyana",
          "Haiti",
          "Heavily indebted poor countries (HIPC)",
          "High income",
          "Honduras",
          "Hong Kong SAR, China",
          "Hungary",
          "IBRD only",
          "IDA & IBRD total",
          "IDA blend",
          "IDA only",
          "IDA total",
          "Iceland",
          "India",
          "Indonesia",
          "Iran",
          "Iran (Islamic Republic of)",
          "Iraq",
          "Ireland",
          "Israel",
          "Italy",
          "Jamaica",
          "Japan",
          "Jordan",
          "Kazakhstan",
          "Kenya",
          "Kiribati",
          "Korea",
          "Korea (Republic  of)",
          "Kosovo",
          "Kuwait",
          "Kyrgyz Republic",
          "Kyrgyzstan",
          "Lao PDR",
          "Lao People's Democratic Republic",
          "Late-demographic dividend",
          "Latin America & Caribbean",
          "Latin America & Caribbean (IDA & IBRD)",
          "Latin America & Caribbean (excluding high income)",
          "Latvia",
          "Least developed countries: UN classification",
          "Lebanon",
          "Lesotho",
          "Liberia",
          "Libya",
          "Liechtenstein",
          "Lithuania",
          "Low & middle income",
          "Low income",
          "Lower middle income",
          "Luxembourg",
          "Macao SAR, China",
          "Madagascar",
          "Malawi",
          "Malaysia",
          "Maldives",
          "Mali",
          "Malta",
          "Marshall Islands",
          "Mauritania",
          "Mauritius",
          "Mexico",
          "Micronesia",
          "Middle East & North Africa",
          "Middle East & North Africa (IDA & IBRD)",
          "Middle East & North Africa (excluding high income)",
          "Middle income",
          "Moldova",
          "Monaco",
          "Mongolia",
          "Montenegro",
          "Morocco",
          "Mozambique",
          "Myanmar",
          "Namibia",
          "Nauru",
          "Nepal",
          "Nepal (Republic of)",
          "Netherlands",
          "Netherlands (Kingdom of the)",
          "New Caledonia",
          "New Zealand",
          "Nicaragua",
          "Niger",
          "Nigeria",
          "North America",
          "North Macedonia",
          "Norway",
          "OECD members",
          "Oman",
          "Other small states",
          "Pacific island small states",
          "Pakistan",
          "Palau",
          "Panama",
          "Papua New Guinea",
          "Paraguay",
          "Peru",
          "Philippines",
          "Poland",
          "Portugal",
          "Post-demographic dividend",
          "Pre-demographic dividend",
          "Puerto Rico",
          "Qatar",
          "Romania",
          "Russia",
          "Russian Federation",
          "Rwanda",
          "Saint Kitts and Nevis",
          "Saint Lucia",
          "Saint Vincent and the Grenadines",
          "Samoa",
          "San Marino",
          "Sao Tome and Principe",
          "Saudi Arabia",
          "Senegal",
          "Serbia",
          "Seychelles",
          "Sierra Leone",
          "Singapore",
          "Sint Maarten (Dutch part)",
          "Slovak Republic",
          "Slovakia",
          "Slovenia",
          "Small states",
          "Solomon Islands",
          "Somalia",
          "South Africa",
          "South Asia",
          "South Asia (IDA & IBRD)",
          "South Sudan",
          "Spain",
          "Sri Lanka",
          "St. Kitts and Nevis",
          "St. Lucia",
          "St. Vincent and the Grenadines",
          "State of Palestine",
          "Sub-Saharan Africa",
          "Sub-Saharan Africa (IDA & IBRD)",
          "Sub-Saharan Africa (excluding high income)",
          "Sudan",
          "Suriname",
          "Sweden",
          "Switzerland",
          "Syrian Arab Republic",
          "SÃ£o TomÃ© and Principe",
          "Tajikistan",
          "Tanzania",
          "Thailand",
          "The Bahamas",
          "The Gambia",
          "Timor-Leste",
          "Togo",
          "Tonga",
          "Trinidad and Tobago",
          "Tunisia",
          "Turkmenistan",
          "Turks and Caicos Islands",
          "Tuvalu",
          "TÃ¼rkiye",
          "Türkiye",
          "Uganda",
          "Ukraine",
          "United Arab Emirates",
          "United Kingdom",
          "United States",
          "Upper middle income",
          "Uruguay",
          "Uzbekistan",
          "Vanuatu",
          "Venezuela",
          "Viet Nam",
          "Virgin Islands (US)",
          "West Bank and Gaza",
          "World",
          "Yemen",
          "Zambia",
          "Zimbabwe"
         ],
         "legendgroup": "",
         "marker": {
          "color": "#636efa",
          "symbol": "circle"
         },
         "mode": "markers",
         "name": "",
         "orientation": "v",
         "showlegend": false,
         "type": "scatter",
         "x": [
          2144.449633520632,
          3642.875372854882,
          4146.994621808861,
          11586.81744588233,
          11561.259795438518,
          null,
          8183.164576611601,
          null,
          18779.139077328888,
          13872.227300980368,
          23550.099059937435,
          11105.532499626115,
          35467.23576392345,
          47240.27446402035,
          52932.90011165184,
          14867.94373454056,
          null,
          49117.98844810186,
          4119.424639464522,
          15441.219761206785,
          19119.312137862737,
          48748.62059260388,
          9276.31779285874,
          2883.899097536264,
          77361.10488125886,
          9349.044386554648,
          7581.598427592157,
          null,
          11766.97718194094,
          14665.273020801937,
          15695.64310417854,
          63131.18624806199,
          null,
          19202.831689477152,
          1846.6451267669663,
          831.2948386037261,
          6703.812356466716,
          3378.364590513128,
          3530.283191064248,
          47564.60910962205,
          16828.876202664167,
          67762.36012003601,
          765.2595539833567,
          26337.13597425793,
          1861.6929035835976,
          24197.183280079444,
          11851.40421757962,
          null,
          null,
          13938.231516616232,
          3183.1570311200253,
          5319.387248797885,
          null,
          null,
          18480.65175424534,
          24114.19802252885,
          null,
          25869.78189139128,
          33235.2578125,
          null,
          34386.70491439775,
          4234.790412939604,
          null,
          999.0721335430064,
          null,
          52048.33549278455,
          3854.269956285976,
          12516.384049187262,
          14334.733860884971,
          8084.09901282505,
          14362.728912477376,
          11108.38090398902,
          10984.965474627088,
          12073.810419492816,
          10318.650921701314,
          8100.975303493665,
          28106.19838865041,
          null,
          30494.096303197297,
          7969.207707171356,
          1629.1890697962897,
          43102.90094280391,
          32222.540195772443,
          20766.993602784827,
          20052.22727561707,
          39882.19327619882,
          null,
          null,
          11411.183632163047,
          44976.776448770834,
          4563.187602750362,
          43021.39463589031,
          null,
          14785.398669225648,
          null,
          12254.64565495288,
          50845.52699542711,
          4628.901413321446,
          28129.961324448923,
          null,
          13216.076922523212,
          null,
          7939.374378239338,
          2028.5147809092168,
          1690.0911355098217,
          11427.873072108272,
          3154.683998176483,
          2373.10099582607,
          46039.40880707155,
          5079.703449667071,
          56358.049095186856,
          26476.71639137423,
          11257.666315092132,
          9314.467516117293,
          4749.973737345591,
          2900.068070897597,
          3513.6140767436486,
          50450.74161209958,
          5071.047084212796,
          9759.025207192928,
          14538.52186968621,
          null,
          9194.86407751355,
          58191.60820835689,
          37454.80848866274,
          39898.52646098261,
          9745.55400812848,
          39739.54112416972,
          10605.349315357971,
          24355.75611888873,
          4055.113188215631,
          1883.263200557896,
          37967.47561799498,
          null,
          8796.629620126927,
          55583.561668785245,
          4722.086002287009,
          null,
          6145.497218518554,
          null,
          14339.344598912645,
          16005.18243711198,
          15928.671721968858,
          15454.917901700004,
          25423.48910720253,
          2734.40600589781,
          16843.412429349366,
          2574.296385450908,
          1613.8654797949885,
          19569.9004889534,
          null,
          29855.831491032583,
          9014.650679546834,
          1813.796169716876,
          5762.089137551843,
          113313.57889794352,
          151616.40236396363,
          1500.9105946867544,
          1440.583747328,
          23328.340921700576,
          18338.323195746463,
          2002.3729284712167,
          37278.5832659762,
          4026.9246175401113,
          5020.136804047503,
          19840.177299111423,
          19141.920663054017,
          3291.4541153963464,
          15741.545112985856,
          10178.738847540712,
          10130.251813589011,
          9763.538031670356,
          10172.713781775932,
          null,
          11107.988979264224,
          17674.630086690904,
          7462.15283203125,
          1228.656835192299,
          3658.5935383764754,
          10554.564754653184,
          10489.616342639316,
          3152.293261411437,
          null,
          52186.99738612058,
          null,
          null,
          40350.64528939976,
          5385.527435668,
          1119.137212007585,
          5424.924511249006,
          56330.25783951478,
          14596.63595809768,
          62838.51572691583,
          41233.42219609991,
          35032.25685233091,
          22127.48258156988,
          6539.617985023176,
          4403.672611675789,
          17110.78633509172,
          28439.953602106736,
          3669.9767502124446,
          12616.414233997268,
          11773.9441346308,
          6917.749149855029,
          26488.20025300717,
          30444.600209194723,
          45259.48770110544,
          3534.2896494226907,
          34070.25358920484,
          106141.32618882286,
          23091.155374465267,
          26057.15625,
          null,
          1736.208025656964,
          null,
          null,
          null,
          5645.963445824866,
          56558.87185521237,
          null,
          47261.68227969505,
          2910.288863715104,
          15226.348654177596,
          25477.72192467033,
          1952.9703257445344,
          87702.52198443592,
          42946.68519900229,
          27416.133818789323,
          null,
          33093.750438441006,
          20165.012343098013,
          2556.771440737599,
          925.5770667261788,
          13993.270144213991,
          4908.610265380609,
          4908.610265380609,
          null,
          35983.80757116981,
          11768.020391732436,
          28019.831279064783,
          14436.719293997794,
          12328.828463253943,
          null,
          3845.5993024874897,
          3845.5993024874906,
          3843.590205032052,
          4776.6201171875,
          19629.22324696086,
          49258.99616395385,
          66930.86862711259,
          null,
          3687.440492858056,
          2858.2128171594163,
          2245.4296875,
          15509.18110144051,
          33795.75314481283,
          1885.1420344966923,
          3197.500119770937,
          1824.8355734779225,
          5552.8783356768245,
          30301.934870343663,
          10767.22290554426,
          11989.653763765038,
          24661.14505260001,
          3521.328675953086,
          24600.51821485116,
          null,
          2067.795416917509,
          12385.8134765625,
          64334.09155204886,
          43990.99672198555,
          57301.60042433978,
          14063.487284333796,
          22722.050107133084,
          6075.192224128283,
          2917.677874963528,
          null,
          7641.909252429221,
          null,
          5967.073437008747,
          15120.730322445816,
          null,
          3375.9412698159035,
          2316.9545357126976
         ],
         "xaxis": "x",
         "y": [
          7,
          null,
          null,
          54.3,
          29.5,
          86.1,
          21.3623,
          70.39,
          67.78,
          null,
          64.7,
          54.6228,
          83.78,
          84,
          80.9958,
          75,
          76.92,
          90.5031,
          11.9,
          71.9,
          59.0163,
          85.0012,
          38.7,
          6,
          96.8,
          30.3,
          null,
          34.6016,
          49.9177,
          36.7447,
          54.551,
          null,
          68.77,
          55.4904,
          6,
          1.04239,
          40.26,
          14,
          16.2149,
          87.12,
          null,
          74.1,
          2.7,
          null,
          2.9,
          61.11,
          47.9,
          79.8663,
          69.7809,
          52.5681,
          6.98,
          null,
          7.11,
          48,
          53,
          68.5679,
          29.0702,
          null,
          69.3287,
          74.2317,
          null,
          null,
          10,
          null,
          3,
          95.9935,
          17,
          57.5,
          49.58,
          null,
          null,
          null,
          null,
          45.5904,
          33.8946,
          24.7617,
          18.86,
          0.99,
          84.2415,
          25,
          7.7,
          null,
          null,
          null,
          null,
          null,
          97.6,
          93.3,
          37.4,
          86.5304,
          null,
          83.7511,
          60.68,
          38.0712,
          15.56,
          49.1025,
          86.1937,
          19,
          63.2073,
          66.7,
          51.6,
          69.27,
          23.4,
          6.4,
          3.32,
          32,
          11.4,
          null,
          null,
          23,
          null,
          75.6532,
          null,
          null,
          null,
          null,
          null,
          98.158,
          13.5,
          17.1432,
          null,
          39.3536,
          11.6453,
          83.4917,
          75.0178,
          55.6385,
          40.4027,
          89.1068,
          46.2,
          66,
          16.5,
          12.25,
          null,
          87.5568,
          null,
          78.7,
          null,
          28.3,
          null,
          14.26,
          null,
          null,
          null,
          null,
          75.8261,
          null,
          73,
          22,
          5.41,
          17.76,
          95.21,
          72.1335,
          null,
          null,
          null,
          94.6702,
          null,
          3.7,
          5.83,
          63.6654,
          49.28,
          7,
          73.1141,
          16.8,
          11.8,
          44.8033,
          44.3857,
          29.65,
          null,
          null,
          null,
          null,
          67,
          92.4,
          19.9424,
          63.8869,
          56.7746,
          6,
          7.4,
          14.84,
          null,
          null,
          15.44,
          null,
          91.6667,
          70,
          84,
          17.6,
          1.24868,
          21,
          null,
          68.0585,
          96.3005,
          null,
          70.22,
          null,
          null,
          10,
          null,
          44.9238,
          6.5,
          43.0074,
          40.2447,
          34.7,
          66.5987,
          64.5924,
          null,
          null,
          76.1339,
          91.49,
          54.0783,
          null,
          70.5176,
          10.6,
          65.4,
          53.2,
          47.4,
          21.2,
          null,
          24.41,
          64.7137,
          17.7,
          62.0751,
          51.2547,
          6.0573,
          79.0292,
          null,
          null,
          79.9843,
          71.5863,
          null,
          9,
          1.63,
          49,
          null,
          null,
          2.6,
          76.1867,
          10.5,
          null,
          null,
          null,
          53.6652,
          null,
          null,
          null,
          null,
          40.08,
          92.5236,
          83.6173,
          28.09,
          null,
          17.49,
          7,
          34.8861,
          null,
          null,
          17.5,
          5.7,
          35.9544,
          62.4,
          46.16,
          12.2,
          null,
          24.1,
          null,
          51.0374,
          5.4,
          46.236,
          90.4,
          91.6133,
          73,
          null,
          61.4625,
          35.5,
          18.8,
          57,
          41,
          50.07,
          null,
          null,
          22.55,
          6.5,
          16.3647
         ],
         "yaxis": "y"
        }
       ],
       "layout": {
        "autosize": true,
        "legend": {
         "tracegroupgap": 0
        },
        "margin": {
         "t": 60
        },
        "template": {
         "data": {
          "bar": [
           {
            "error_x": {
             "color": "#2a3f5f"
            },
            "error_y": {
             "color": "#2a3f5f"
            },
            "marker": {
             "line": {
              "color": "#E5ECF6",
              "width": 0.5
             },
             "pattern": {
              "fillmode": "overlay",
              "size": 10,
              "solidity": 0.2
             }
            },
            "type": "bar"
           }
          ],
          "barpolar": [
           {
            "marker": {
             "line": {
              "color": "#E5ECF6",
              "width": 0.5
             },
             "pattern": {
              "fillmode": "overlay",
              "size": 10,
              "solidity": 0.2
             }
            },
            "type": "barpolar"
           }
          ],
          "carpet": [
           {
            "aaxis": {
             "endlinecolor": "#2a3f5f",
             "gridcolor": "white",
             "linecolor": "white",
             "minorgridcolor": "white",
             "startlinecolor": "#2a3f5f"
            },
            "baxis": {
             "endlinecolor": "#2a3f5f",
             "gridcolor": "white",
             "linecolor": "white",
             "minorgridcolor": "white",
             "startlinecolor": "#2a3f5f"
            },
            "type": "carpet"
           }
          ],
          "choropleth": [
           {
            "colorbar": {
             "outlinewidth": 0,
             "ticks": ""
            },
            "type": "choropleth"
           }
          ],
          "contour": [
           {
            "colorbar": {
             "outlinewidth": 0,
             "ticks": ""
            },
            "colorscale": [
             [
              0,
              "#0d0887"
             ],
             [
              0.1111111111111111,
              "#46039f"
             ],
             [
              0.2222222222222222,
              "#7201a8"
             ],
             [
              0.3333333333333333,
              "#9c179e"
             ],
             [
              0.4444444444444444,
              "#bd3786"
             ],
             [
              0.5555555555555556,
              "#d8576b"
             ],
             [
              0.6666666666666666,
              "#ed7953"
             ],
             [
              0.7777777777777778,
              "#fb9f3a"
             ],
             [
              0.8888888888888888,
              "#fdca26"
             ],
             [
              1,
              "#f0f921"
             ]
            ],
            "type": "contour"
           }
          ],
          "contourcarpet": [
           {
            "colorbar": {
             "outlinewidth": 0,
             "ticks": ""
            },
            "type": "contourcarpet"
           }
          ],
          "heatmap": [
           {
            "colorbar": {
             "outlinewidth": 0,
             "ticks": ""
            },
            "colorscale": [
             [
              0,
              "#0d0887"
             ],
             [
              0.1111111111111111,
              "#46039f"
             ],
             [
              0.2222222222222222,
              "#7201a8"
             ],
             [
              0.3333333333333333,
              "#9c179e"
             ],
             [
              0.4444444444444444,
              "#bd3786"
             ],
             [
              0.5555555555555556,
              "#d8576b"
             ],
             [
              0.6666666666666666,
              "#ed7953"
             ],
             [
              0.7777777777777778,
              "#fb9f3a"
             ],
             [
              0.8888888888888888,
              "#fdca26"
             ],
             [
              1,
              "#f0f921"
             ]
            ],
            "type": "heatmap"
           }
          ],
          "heatmapgl": [
           {
            "colorbar": {
             "outlinewidth": 0,
             "ticks": ""
            },
            "colorscale": [
             [
              0,
              "#0d0887"
             ],
             [
              0.1111111111111111,
              "#46039f"
             ],
             [
              0.2222222222222222,
              "#7201a8"
             ],
             [
              0.3333333333333333,
              "#9c179e"
             ],
             [
              0.4444444444444444,
              "#bd3786"
             ],
             [
              0.5555555555555556,
              "#d8576b"
             ],
             [
              0.6666666666666666,
              "#ed7953"
             ],
             [
              0.7777777777777778,
              "#fb9f3a"
             ],
             [
              0.8888888888888888,
              "#fdca26"
             ],
             [
              1,
              "#f0f921"
             ]
            ],
            "type": "heatmapgl"
           }
          ],
          "histogram": [
           {
            "marker": {
             "pattern": {
              "fillmode": "overlay",
              "size": 10,
              "solidity": 0.2
             }
            },
            "type": "histogram"
           }
          ],
          "histogram2d": [
           {
            "colorbar": {
             "outlinewidth": 0,
             "ticks": ""
            },
            "colorscale": [
             [
              0,
              "#0d0887"
             ],
             [
              0.1111111111111111,
              "#46039f"
             ],
             [
              0.2222222222222222,
              "#7201a8"
             ],
             [
              0.3333333333333333,
              "#9c179e"
             ],
             [
              0.4444444444444444,
              "#bd3786"
             ],
             [
              0.5555555555555556,
              "#d8576b"
             ],
             [
              0.6666666666666666,
              "#ed7953"
             ],
             [
              0.7777777777777778,
              "#fb9f3a"
             ],
             [
              0.8888888888888888,
              "#fdca26"
             ],
             [
              1,
              "#f0f921"
             ]
            ],
            "type": "histogram2d"
           }
          ],
          "histogram2dcontour": [
           {
            "colorbar": {
             "outlinewidth": 0,
             "ticks": ""
            },
            "colorscale": [
             [
              0,
              "#0d0887"
             ],
             [
              0.1111111111111111,
              "#46039f"
             ],
             [
              0.2222222222222222,
              "#7201a8"
             ],
             [
              0.3333333333333333,
              "#9c179e"
             ],
             [
              0.4444444444444444,
              "#bd3786"
             ],
             [
              0.5555555555555556,
              "#d8576b"
             ],
             [
              0.6666666666666666,
              "#ed7953"
             ],
             [
              0.7777777777777778,
              "#fb9f3a"
             ],
             [
              0.8888888888888888,
              "#fdca26"
             ],
             [
              1,
              "#f0f921"
             ]
            ],
            "type": "histogram2dcontour"
           }
          ],
          "mesh3d": [
           {
            "colorbar": {
             "outlinewidth": 0,
             "ticks": ""
            },
            "type": "mesh3d"
           }
          ],
          "parcoords": [
           {
            "line": {
             "colorbar": {
              "outlinewidth": 0,
              "ticks": ""
             }
            },
            "type": "parcoords"
           }
          ],
          "pie": [
           {
            "automargin": true,
            "type": "pie"
           }
          ],
          "scatter": [
           {
            "fillpattern": {
             "fillmode": "overlay",
             "size": 10,
             "solidity": 0.2
            },
            "type": "scatter"
           }
          ],
          "scatter3d": [
           {
            "line": {
             "colorbar": {
              "outlinewidth": 0,
              "ticks": ""
             }
            },
            "marker": {
             "colorbar": {
              "outlinewidth": 0,
              "ticks": ""
             }
            },
            "type": "scatter3d"
           }
          ],
          "scattercarpet": [
           {
            "marker": {
             "colorbar": {
              "outlinewidth": 0,
              "ticks": ""
             }
            },
            "type": "scattercarpet"
           }
          ],
          "scattergeo": [
           {
            "marker": {
             "colorbar": {
              "outlinewidth": 0,
              "ticks": ""
             }
            },
            "type": "scattergeo"
           }
          ],
          "scattergl": [
           {
            "marker": {
             "colorbar": {
              "outlinewidth": 0,
              "ticks": ""
             }
            },
            "type": "scattergl"
           }
          ],
          "scattermapbox": [
           {
            "marker": {
             "colorbar": {
              "outlinewidth": 0,
              "ticks": ""
             }
            },
            "type": "scattermapbox"
           }
          ],
          "scatterpolar": [
           {
            "marker": {
             "colorbar": {
              "outlinewidth": 0,
              "ticks": ""
             }
            },
            "type": "scatterpolar"
           }
          ],
          "scatterpolargl": [
           {
            "marker": {
             "colorbar": {
              "outlinewidth": 0,
              "ticks": ""
             }
            },
            "type": "scatterpolargl"
           }
          ],
          "scatterternary": [
           {
            "marker": {
             "colorbar": {
              "outlinewidth": 0,
              "ticks": ""
             }
            },
            "type": "scatterternary"
           }
          ],
          "surface": [
           {
            "colorbar": {
             "outlinewidth": 0,
             "ticks": ""
            },
            "colorscale": [
             [
              0,
              "#0d0887"
             ],
             [
              0.1111111111111111,
              "#46039f"
             ],
             [
              0.2222222222222222,
              "#7201a8"
             ],
             [
              0.3333333333333333,
              "#9c179e"
             ],
             [
              0.4444444444444444,
              "#bd3786"
             ],
             [
              0.5555555555555556,
              "#d8576b"
             ],
             [
              0.6666666666666666,
              "#ed7953"
             ],
             [
              0.7777777777777778,
              "#fb9f3a"
             ],
             [
              0.8888888888888888,
              "#fdca26"
             ],
             [
              1,
              "#f0f921"
             ]
            ],
            "type": "surface"
           }
          ],
          "table": [
           {
            "cells": {
             "fill": {
              "color": "#EBF0F8"
             },
             "line": {
              "color": "white"
             }
            },
            "header": {
             "fill": {
              "color": "#C8D4E3"
             },
             "line": {
              "color": "white"
             }
            },
            "type": "table"
           }
          ]
         },
         "layout": {
          "annotationdefaults": {
           "arrowcolor": "#2a3f5f",
           "arrowhead": 0,
           "arrowwidth": 1
          },
          "autotypenumbers": "strict",
          "coloraxis": {
           "colorbar": {
            "outlinewidth": 0,
            "ticks": ""
           }
          },
          "colorscale": {
           "diverging": [
            [
             0,
             "#8e0152"
            ],
            [
             0.1,
             "#c51b7d"
            ],
            [
             0.2,
             "#de77ae"
            ],
            [
             0.3,
             "#f1b6da"
            ],
            [
             0.4,
             "#fde0ef"
            ],
            [
             0.5,
             "#f7f7f7"
            ],
            [
             0.6,
             "#e6f5d0"
            ],
            [
             0.7,
             "#b8e186"
            ],
            [
             0.8,
             "#7fbc41"
            ],
            [
             0.9,
             "#4d9221"
            ],
            [
             1,
             "#276419"
            ]
           ],
           "sequential": [
            [
             0,
             "#0d0887"
            ],
            [
             0.1111111111111111,
             "#46039f"
            ],
            [
             0.2222222222222222,
             "#7201a8"
            ],
            [
             0.3333333333333333,
             "#9c179e"
            ],
            [
             0.4444444444444444,
             "#bd3786"
            ],
            [
             0.5555555555555556,
             "#d8576b"
            ],
            [
             0.6666666666666666,
             "#ed7953"
            ],
            [
             0.7777777777777778,
             "#fb9f3a"
            ],
            [
             0.8888888888888888,
             "#fdca26"
            ],
            [
             1,
             "#f0f921"
            ]
           ],
           "sequentialminus": [
            [
             0,
             "#0d0887"
            ],
            [
             0.1111111111111111,
             "#46039f"
            ],
            [
             0.2222222222222222,
             "#7201a8"
            ],
            [
             0.3333333333333333,
             "#9c179e"
            ],
            [
             0.4444444444444444,
             "#bd3786"
            ],
            [
             0.5555555555555556,
             "#d8576b"
            ],
            [
             0.6666666666666666,
             "#ed7953"
            ],
            [
             0.7777777777777778,
             "#fb9f3a"
            ],
            [
             0.8888888888888888,
             "#fdca26"
            ],
            [
             1,
             "#f0f921"
            ]
           ]
          },
          "colorway": [
           "#636efa",
           "#EF553B",
           "#00cc96",
           "#ab63fa",
           "#FFA15A",
           "#19d3f3",
           "#FF6692",
           "#B6E880",
           "#FF97FF",
           "#FECB52"
          ],
          "font": {
           "color": "#2a3f5f"
          },
          "geo": {
           "bgcolor": "white",
           "lakecolor": "white",
           "landcolor": "#E5ECF6",
           "showlakes": true,
           "showland": true,
           "subunitcolor": "white"
          },
          "hoverlabel": {
           "align": "left"
          },
          "hovermode": "closest",
          "mapbox": {
           "style": "light"
          },
          "paper_bgcolor": "white",
          "plot_bgcolor": "#E5ECF6",
          "polar": {
           "angularaxis": {
            "gridcolor": "white",
            "linecolor": "white",
            "ticks": ""
           },
           "bgcolor": "#E5ECF6",
           "radialaxis": {
            "gridcolor": "white",
            "linecolor": "white",
            "ticks": ""
           }
          },
          "scene": {
           "xaxis": {
            "backgroundcolor": "#E5ECF6",
            "gridcolor": "white",
            "gridwidth": 2,
            "linecolor": "white",
            "showbackground": true,
            "ticks": "",
            "zerolinecolor": "white"
           },
           "yaxis": {
            "backgroundcolor": "#E5ECF6",
            "gridcolor": "white",
            "gridwidth": 2,
            "linecolor": "white",
            "showbackground": true,
            "ticks": "",
            "zerolinecolor": "white"
           },
           "zaxis": {
            "backgroundcolor": "#E5ECF6",
            "gridcolor": "white",
            "gridwidth": 2,
            "linecolor": "white",
            "showbackground": true,
            "ticks": "",
            "zerolinecolor": "white"
           }
          },
          "shapedefaults": {
           "line": {
            "color": "#2a3f5f"
           }
          },
          "ternary": {
           "aaxis": {
            "gridcolor": "white",
            "linecolor": "white",
            "ticks": ""
           },
           "baxis": {
            "gridcolor": "white",
            "linecolor": "white",
            "ticks": ""
           },
           "bgcolor": "#E5ECF6",
           "caxis": {
            "gridcolor": "white",
            "linecolor": "white",
            "ticks": ""
           }
          },
          "title": {
           "x": 0.05
          },
          "xaxis": {
           "automargin": true,
           "gridcolor": "white",
           "linecolor": "white",
           "ticks": "",
           "title": {
            "standoff": 15
           },
           "zerolinecolor": "white",
           "zerolinewidth": 2
          },
          "yaxis": {
           "automargin": true,
           "gridcolor": "white",
           "linecolor": "white",
           "ticks": "",
           "title": {
            "standoff": 15
           },
           "zerolinecolor": "white",
           "zerolinewidth": 2
          }
         }
        },
        "xaxis": {
         "anchor": "y",
         "autorange": true,
         "domain": [
          0,
          1
         ],
         "range": [
          -8359.377517027524,
          160741.03943497452
         ],
         "title": {
          "text": "GDP_Per_Capita"
         },
         "type": "linear"
        },
        "yaxis": {
         "anchor": "x",
         "autorange": true,
         "domain": [
          0,
          1
         ],
         "range": [
          -6.533506561679791,
          105.6815065616798
         ],
         "title": {
          "text": "Internet_Users_Pct"
         },
         "type": "linear"
        }
       }
      },
      "image/png": "[encoded data removed]",
      "text/html": [
       "<div>                            <div id=\"badab5ff-f8d2-4246-91d9-2c17ed115ab5\" class=\"plotly-graph-div\" style=\"height:525px; width:100%;\"></div>            <script type=\"text/javascript\">                require([\"plotly\"], function(Plotly) {                    window.PLOTLYENV=window.PLOTLYENV || {};                                    if (document.getElementById(\"badab5ff-f8d2-4246-91d9-2c17ed115ab5\")) {                    Plotly.newPlot(                        \"badab5ff-f8d2-4246-91d9-2c17ed115ab5\",                        [{\"hovertemplate\":\"\\u003cb\\u003e%{hovertext}\\u003c\\u002fb\\u003e\\u003cbr\\u003e\\u003cbr\\u003eGDP_Per_Capita=%{x}\\u003cbr\\u003eInternet_Users_Pct=%{y}\\u003cextra\\u003e\\u003c\\u002fextra\\u003e\",\"hovertext\":[\"Afghanistan\",\"Africa Eastern and Southern\",\"Africa Western and Central\",\"Albania\",\"Algeria\",\"Andorra\",\"Angola\",\"Anguilla\",\"Antigua and Barbuda\",\"Arab World\",\"Argentina\",\"Armenia\",\"Aruba\",\"Australia\",\"Austria\",\"Azerbaijan\",\"Bahamas\",\"Bahrain\",\"Bangladesh\",\"Barbados\",\"Belarus\",\"Belgium\",\"Belize\",\"Benin\",\"Bermuda\",\"Bhutan\",\"Bolivia\",\"Bolivia (Plurinational State of)\",\"Bosnia and Herzegovina\",\"Botswana\",\"Brazil\",\"Brunei\",\"Brunei Darussalam\",\"Bulgaria\",\"Burkina Faso\",\"Burundi\",\"Cabo Verde\",\"Cambodia\",\"Cameroon\",\"Canada\",\"Caribbean small states\",\"Cayman Islands\",\"Central African Republic\",\"Central Europe and the Baltics\",\"Chad\",\"Chile\",\"China\",\"China, Hong Kong Special Administrative Region\",\"China, Macao Special Administrative Region\",\"Colombia\",\"Comoros\",\"Congo\",\"Congo (Republic of the)\",\"Cook Islands\",\"Costa Rica\",\"Croatia\",\"Cuba\",\"Cura\\u00c3\\u00a7ao\",\"Cyprus\",\"Czech Republic\",\"Czechia\",\"C\\u00c3\\u00b4te d'Ivoire\",\"C\\u00f4te d'Ivoire\",\"Dem. Rep. Congo\",\"Democratic Republic of the Congo\",\"Denmark\",\"Djibouti\",\"Dominica\",\"Dominican Republic\",\"Early-demographic dividend\",\"East Asia & Pacific\",\"East Asia & Pacific (IDA & IBRD)\",\"East Asia & Pacific (excluding high income)\",\"Ecuador\",\"Egypt\",\"El Salvador\",\"Equatorial Guinea\",\"Eritrea\",\"Estonia\",\"Eswatini\",\"Ethiopia\",\"Euro area\",\"Europe & Central Asia\",\"Europe & Central Asia (IDA & IBRD)\",\"Europe & Central Asia (excluding high income)\",\"European Union\",\"Falkland (Malvinas) Islands\",\"Faroe Islands\",\"Fiji\",\"Finland\",\"Fragile and conflict affected situations\",\"France\",\"French Polynesia\",\"Gabon\",\"Gambia\",\"Georgia\",\"Germany\",\"Ghana\",\"Greece\",\"Greenland\",\"Grenada\",\"Guam\",\"Guatemala\",\"Guinea\",\"Guinea-Bissau\",\"Guyana\",\"Haiti\",\"Heavily indebted poor countries (HIPC)\",\"High income\",\"Honduras\",\"Hong Kong SAR, China\",\"Hungary\",\"IBRD only\",\"IDA & IBRD total\",\"IDA blend\",\"IDA only\",\"IDA total\",\"Iceland\",\"India\",\"Indonesia\",\"Iran\",\"Iran (Islamic Republic of)\",\"Iraq\",\"Ireland\",\"Israel\",\"Italy\",\"Jamaica\",\"Japan\",\"Jordan\",\"Kazakhstan\",\"Kenya\",\"Kiribati\",\"Korea\",\"Korea (Republic  of)\",\"Kosovo\",\"Kuwait\",\"Kyrgyz Republic\",\"Kyrgyzstan\",\"Lao PDR\",\"Lao People's Democratic Republic\",\"Late-demographic dividend\",\"Latin America & Caribbean\",\"Latin America & Caribbean (IDA & IBRD)\",\"Latin America & Caribbean (excluding high income)\",\"Latvia\",\"Least developed countries: UN classification\",\"Lebanon\",\"Lesotho\",\"Liberia\",\"Libya\",\"Liechtenstein\",\"Lithuania\",\"Low & middle income\",\"Low income\",\"Lower middle income\",\"Luxembourg\",\"Macao SAR, China\",\"Madagascar\",\"Malawi\",\"Malaysia\",\"Maldives\",\"Mali\",\"Malta\",\"Marshall Islands\",\"Mauritania\",\"Mauritius\",\"Mexico\",\"Micronesia\",\"Middle East & North Africa\",\"Middle East & North Africa (IDA & IBRD)\",\"Middle East & North Africa (excluding high income)\",\"Middle income\",\"Moldova\",\"Monaco\",\"Mongolia\",\"Montenegro\",\"Morocco\",\"Mozambique\",\"Myanmar\",\"Namibia\",\"Nauru\",\"Nepal\",\"Nepal (Republic of)\",\"Netherlands\",\"Netherlands (Kingdom of the)\",\"New Caledonia\",\"New Zealand\",\"Nicaragua\",\"Niger\",\"Nigeria\",\"North America\",\"North Macedonia\",\"Norway\",\"OECD members\",\"Oman\",\"Other small states\",\"Pacific island small states\",\"Pakistan\",\"Palau\",\"Panama\",\"Papua New Guinea\",\"Paraguay\",\"Peru\",\"Philippines\",\"Poland\",\"Portugal\",\"Post-demographic dividend\",\"Pre-demographic dividend\",\"Puerto Rico\",\"Qatar\",\"Romania\",\"Russia\",\"Russian Federation\",\"Rwanda\",\"Saint Kitts and Nevis\",\"Saint Lucia\",\"Saint Vincent and the Grenadines\",\"Samoa\",\"San Marino\",\"Sao Tome and Principe\",\"Saudi Arabia\",\"Senegal\",\"Serbia\",\"Seychelles\",\"Sierra Leone\",\"Singapore\",\"Sint Maarten (Dutch part)\",\"Slovak Republic\",\"Slovakia\",\"Slovenia\",\"Small states\",\"Solomon Islands\",\"Somalia\",\"South Africa\",\"South Asia\",\"South Asia (IDA & IBRD)\",\"South Sudan\",\"Spain\",\"Sri Lanka\",\"St. Kitts and Nevis\",\"St. Lucia\",\"St. Vincent and the Grenadines\",\"State of Palestine\",\"Sub-Saharan Africa\",\"Sub-Saharan Africa (IDA & IBRD)\",\"Sub-Saharan Africa (excluding high income)\",\"Sudan\",\"Suriname\",\"Sweden\",\"Switzerland\",\"Syrian Arab Republic\",\"S\\u00c3\\u00a3o Tom\\u00c3\\u00a9 and Principe\",\"Tajikistan\",\"Tanzania\",\"Thailand\",\"The Bahamas\",\"The Gambia\",\"Timor-Leste\",\"Togo\",\"Tonga\",\"Trinidad and Tobago\",\"Tunisia\",\"Turkmenistan\",\"Turks and Caicos Islands\",\"Tuvalu\",\"T\\u00c3\\u00bcrkiye\",\"T\\u00fcrkiye\",\"Uganda\",\"Ukraine\",\"United Arab Emirates\",\"United Kingdom\",\"United States\",\"Upper middle income\",\"Uruguay\",\"Uzbekistan\",\"Vanuatu\",\"Venezuela\",\"Viet Nam\",\"Virgin Islands (US)\",\"West Bank and Gaza\",\"World\",\"Yemen\",\"Zambia\",\"Zimbabwe\"],\"legendgroup\":\"\",\"marker\":{\"color\":\"#636efa\",\"symbol\":\"circle\"},\"mode\":\"markers\",\"name\":\"\",\"orientation\":\"v\",\"showlegend\":false,\"x\":[2144.449633520632,3642.875372854882,4146.994621808861,11586.81744588233,11561.259795438518,null,8183.164576611601,null,18779.139077328888,13872.227300980368,23550.099059937435,11105.532499626115,35467.23576392345,47240.27446402035,52932.90011165184,14867.94373454056,null,49117.98844810186,4119.424639464522,15441.219761206785,19119.312137862737,48748.62059260388,9276.31779285874,2883.899097536264,77361.10488125886,9349.044386554648,7581.598427592157,null,11766.97718194094,14665.273020801937,15695.64310417854,63131.18624806199,null,19202.831689477152,1846.6451267669663,831.2948386037261,6703.812356466716,3378.364590513128,3530.283191064248,47564.60910962205,16828.876202664167,67762.36012003601,765.2595539833567,26337.13597425793,1861.6929035835976,24197.183280079444,11851.40421757962,null,null,13938.231516616232,3183.1570311200253,5319.387248797885,null,null,18480.65175424534,24114.19802252885,null,25869.78189139128,33235.2578125,null,34386.70491439775,4234.790412939604,null,999.0721335430064,null,52048.33549278455,3854.269956285976,12516.384049187262,14334.733860884971,8084.09901282505,14362.728912477376,11108.38090398902,10984.965474627088,12073.810419492816,10318.650921701314,8100.975303493665,28106.19838865041,null,30494.096303197297,7969.207707171356,1629.1890697962897,43102.90094280391,32222.540195772443,20766.993602784827,20052.22727561707,39882.19327619882,null,null,11411.183632163047,44976.776448770834,4563.187602750362,43021.39463589031,null,14785.398669225648,null,12254.64565495288,50845.52699542711,4628.901413321446,28129.961324448923,null,13216.076922523212,null,7939.374378239338,2028.5147809092168,1690.0911355098217,11427.873072108272,3154.683998176483,2373.10099582607,46039.40880707155,5079.703449667071,56358.049095186856,26476.71639137423,11257.666315092132,9314.467516117293,4749.973737345591,2900.068070897597,3513.6140767436486,50450.74161209958,5071.047084212796,9759.025207192928,14538.52186968621,null,9194.86407751355,58191.60820835689,37454.80848866274,39898.52646098261,9745.55400812848,39739.54112416972,10605.349315357971,24355.75611888873,4055.113188215631,1883.263200557896,37967.47561799498,null,8796.629620126927,55583.561668785245,4722.086002287009,null,6145.497218518554,null,14339.344598912645,16005.18243711198,15928.671721968858,15454.917901700004,25423.48910720253,2734.40600589781,16843.412429349366,2574.296385450908,1613.8654797949885,19569.9004889534,null,29855.831491032583,9014.650679546834,1813.796169716876,5762.089137551843,113313.57889794352,151616.40236396363,1500.9105946867544,1440.583747328,23328.340921700576,18338.323195746463,2002.3729284712167,37278.5832659762,4026.9246175401113,5020.136804047503,19840.177299111423,19141.920663054017,3291.4541153963464,15741.545112985856,10178.738847540712,10130.251813589011,9763.538031670356,10172.713781775932,null,11107.988979264224,17674.630086690904,7462.15283203125,1228.656835192299,3658.5935383764754,10554.564754653184,10489.616342639316,3152.293261411437,null,52186.99738612058,null,null,40350.64528939976,5385.527435668,1119.137212007585,5424.924511249006,56330.25783951478,14596.63595809768,62838.51572691583,41233.42219609991,35032.25685233091,22127.48258156988,6539.617985023176,4403.672611675789,17110.78633509172,28439.953602106736,3669.9767502124446,12616.414233997268,11773.9441346308,6917.749149855029,26488.20025300717,30444.600209194723,45259.48770110544,3534.2896494226907,34070.25358920484,106141.32618882286,23091.155374465267,26057.15625,null,1736.208025656964,null,null,null,5645.963445824866,56558.87185521237,null,47261.68227969505,2910.288863715104,15226.348654177596,25477.72192467033,1952.9703257445344,87702.52198443592,42946.68519900229,27416.133818789323,null,33093.750438441006,20165.012343098013,2556.771440737599,925.5770667261788,13993.270144213991,4908.610265380609,4908.610265380609,null,35983.80757116981,11768.020391732436,28019.831279064783,14436.719293997794,12328.828463253943,null,3845.5993024874897,3845.5993024874906,3843.590205032052,4776.6201171875,19629.22324696086,49258.99616395385,66930.86862711259,null,3687.440492858056,2858.2128171594163,2245.4296875,15509.18110144051,33795.75314481283,1885.1420344966923,3197.500119770937,1824.8355734779225,5552.8783356768245,30301.934870343663,10767.22290554426,11989.653763765038,24661.14505260001,3521.328675953086,24600.51821485116,null,2067.795416917509,12385.8134765625,64334.09155204886,43990.99672198555,57301.60042433978,14063.487284333796,22722.050107133084,6075.192224128283,2917.677874963528,null,7641.909252429221,null,5967.073437008747,15120.730322445816,null,3375.9412698159035,2316.9545357126976],\"xaxis\":\"x\",\"y\":[7.0,null,null,54.3,29.5,86.1,21.3623,70.39,67.78,null,64.7,54.6228,83.78,84.0,80.9958,75.0,76.92,90.5031,11.9,71.9,59.0163,85.0012,38.7,6.0,96.8,30.3,null,34.6016,49.9177,36.7447,54.551,null,68.77,55.4904,6.0,1.04239,40.26,14.0,16.2149,87.12,null,74.1,2.7,null,2.9,61.11,47.9,79.8663,69.7809,52.5681,6.98,null,7.11,48.0,53.0,68.5679,29.0702,null,69.3287,74.2317,null,null,10.0,null,3.0,95.9935,17.0,57.5,49.58,null,null,null,null,45.5904,33.8946,24.7617,18.86,0.99,84.2415,25.0,7.7,null,null,null,null,null,97.6,93.3,37.4,86.5304,null,83.7511,60.68,38.0712,15.56,49.1025,86.1937,19.0,63.2073,66.7,51.6,69.27,23.4,6.4,3.32,32.0,11.4,null,null,23.0,null,75.6532,null,null,null,null,null,98.158,13.5,17.1432,null,39.3536,11.6453,83.4917,75.0178,55.6385,40.4027,89.1068,46.2,66.0,16.5,12.25,null,87.5568,null,78.7,null,28.3,null,14.26,null,null,null,null,75.8261,null,73.0,22.0,5.41,17.76,95.21,72.1335,null,null,null,94.6702,null,3.7,5.83,63.6654,49.28,7.0,73.1141,16.8,11.8,44.8033,44.3857,29.65,null,null,null,null,67.0,92.4,19.9424,63.8869,56.7746,6.0,7.4,14.84,null,null,15.44,null,91.6667,70.0,84.0,17.6,1.24868,21.0,null,68.0585,96.3005,null,70.22,null,null,10.0,null,44.9238,6.5,43.0074,40.2447,34.7,66.5987,64.5924,null,null,76.1339,91.49,54.0783,null,70.5176,10.6,65.4,53.2,47.4,21.2,null,24.41,64.7137,17.7,62.0751,51.2547,6.0573,79.0292,null,null,79.9843,71.5863,null,9.0,1.63,49.0,null,null,2.6,76.1867,10.5,null,null,null,53.6652,null,null,null,null,40.08,92.5236,83.6173,28.09,null,17.49,7.0,34.8861,null,null,17.5,5.7,35.9544,62.4,46.16,12.2,null,24.1,null,51.0374,5.4,46.236,90.4,91.6133,73.0,null,61.4625,35.5,18.8,57.0,41.0,50.07,null,null,22.55,6.5,16.3647],\"yaxis\":\"y\",\"type\":\"scatter\"}],                        {\"template\":{\"data\":{\"histogram2dcontour\":[{\"type\":\"histogram2dcontour\",\"colorbar\":{\"outlinewidth\":0,\"ticks\":\"\"},\"colorscale\":[[0.0,\"#0d0887\"],[0.1111111111111111,\"#46039f\"],[0.2222222222222222,\"#7201a8\"],[0.3333333333333333,\"#9c179e\"],[0.4444444444444444,\"#bd3786\"],[0.5555555555555556,\"#d8576b\"],[0.6666666666666666,\"#ed7953\"],[0.7777777777777778,\"#fb9f3a\"],[0.8888888888888888,\"#fdca26\"],[1.0,\"#f0f921\"]]}],\"choropleth\":[{\"type\":\"choropleth\",\"colorbar\":{\"outlinewidth\":0,\"ticks\":\"\"}}],\"histogram2d\":[{\"type\":\"histogram2d\",\"colorbar\":{\"outlinewidth\":0,\"ticks\":\"\"},\"colorscale\":[[0.0,\"#0d0887\"],[0.1111111111111111,\"#46039f\"],[0.2222222222222222,\"#7201a8\"],[0.3333333333333333,\"#9c179e\"],[0.4444444444444444,\"#bd3786\"],[0.5555555555555556,\"#d8576b\"],[0.6666666666666666,\"#ed7953\"],[0.7777777777777778,\"#fb9f3a\"],[0.8888888888888888,\"#fdca26\"],[1.0,\"#f0f921\"]]}],\"heatmap\":[{\"type\":\"heatmap\",\"colorbar\":{\"outlinewidth\":0,\"ticks\":\"\"},\"colorscale\":[[0.0,\"#0d0887\"],[0.1111111111111111,\"#46039f\"],[0.2222222222222222,\"#7201a8\"],[0.3333333333333333,\"#9c179e\"],[0.4444444444444444,\"#bd3786\"],[0.5555555555555556,\"#d8576b\"],[0.6666666666666666,\"#ed7953\"],[0.7777777777777778,\"#fb9f3a\"],[0.8888888888888888,\"#fdca26\"],[1.0,\"#f0f921\"]]}],\"heatmapgl\":[{\"type\":\"heatmapgl\",\"colorbar\":{\"outlinewidth\":0,\"ticks\":\"\"},\"colorscale\":[[0.0,\"#0d0887\"],[0.1111111111111111,\"#46039f\"],[0.2222222222222222,\"#7201a8\"],[0.3333333333333333,\"#9c179e\"],[0.4444444444444444,\"#bd3786\"],[0.5555555555555556,\"#d8576b\"],[0.6666666666666666,\"#ed7953\"],[0.7777777777777778,\"#fb9f3a\"],[0.8888888888888888,\"#fdca26\"],[1.0,\"#f0f921\"]]}],\"contourcarpet\":[{\"type\":\"contourcarpet\",\"colorbar\":{\"outlinewidth\":0,\"ticks\":\"\"}}],\"contour\":[{\"type\":\"contour\",\"colorbar\":{\"outlinewidth\":0,\"ticks\":\"\"},\"colorscale\":[[0.0,\"#0d0887\"],[0.1111111111111111,\"#46039f\"],[0.2222222222222222,\"#7201a8\"],[0.3333333333333333,\"#9c179e\"],[0.4444444444444444,\"#bd3786\"],[0.5555555555555556,\"#d8576b\"],[0.6666666666666666,\"#ed7953\"],[0.7777777777777778,\"#fb9f3a\"],[0.8888888888888888,\"#fdca26\"],[1.0,\"#f0f921\"]]}],\"surface\":[{\"type\":\"surface\",\"colorbar\":{\"outlinewidth\":0,\"ticks\":\"\"},\"colorscale\":[[0.0,\"#0d0887\"],[0.1111111111111111,\"#46039f\"],[0.2222222222222222,\"#7201a8\"],[0.3333333333333333,\"#9c179e\"],[0.4444444444444444,\"#bd3786\"],[0.5555555555555556,\"#d8576b\"],[0.6666666666666666,\"#ed7953\"],[0.7777777777777778,\"#fb9f3a\"],[0.8888888888888888,\"#fdca26\"],[1.0,\"#f0f921\"]]}],\"mesh3d\":[{\"type\":\"mesh3d\",\"colorbar\":{\"outlinewidth\":0,\"ticks\":\"\"}}],\"scatter\":[{\"fillpattern\":{\"fillmode\":\"overlay\",\"size\":10,\"solidity\":0.2},\"type\":\"scatter\"}],\"parcoords\":[{\"type\":\"parcoords\",\"line\":{\"colorbar\":{\"outlinewidth\":0,\"ticks\":\"\"}}}],\"scatterpolargl\":[{\"type\":\"scatterpolargl\",\"marker\":{\"colorbar\":{\"outlinewidth\":0,\"ticks\":\"\"}}}],\"bar\":[{\"error_x\":{\"color\":\"#2a3f5f\"},\"error_y\":{\"color\":\"#2a3f5f\"},\"marker\":{\"line\":{\"color\":\"#E5ECF6\",\"width\":0.5},\"pattern\":{\"fillmode\":\"overlay\",\"size\":10,\"solidity\":0.2}},\"type\":\"bar\"}],\"scattergeo\":[{\"type\":\"scattergeo\",\"marker\":{\"colorbar\":{\"outlinewidth\":0,\"ticks\":\"\"}}}],\"scatterpolar\":[{\"type\":\"scatterpolar\",\"marker\":{\"colorbar\":{\"outlinewidth\":0,\"ticks\":\"\"}}}],\"histogram\":[{\"marker\":{\"pattern\":{\"fillmode\":\"overlay\",\"size\":10,\"solidity\":0.2}},\"type\":\"histogram\"}],\"scattergl\":[{\"type\":\"scattergl\",\"marker\":{\"colorbar\":{\"outlinewidth\":0,\"ticks\":\"\"}}}],\"scatter3d\":[{\"type\":\"scatter3d\",\"line\":{\"colorbar\":{\"outlinewidth\":0,\"ticks\":\"\"}},\"marker\":{\"colorbar\":{\"outlinewidth\":0,\"ticks\":\"\"}}}],\"scattermapbox\":[{\"type\":\"scattermapbox\",\"marker\":{\"colorbar\":{\"outlinewidth\":0,\"ticks\":\"\"}}}],\"scatterternary\":[{\"type\":\"scatterternary\",\"marker\":{\"colorbar\":{\"outlinewidth\":0,\"ticks\":\"\"}}}],\"scattercarpet\":[{\"type\":\"scattercarpet\",\"marker\":{\"colorbar\":{\"outlinewidth\":0,\"ticks\":\"\"}}}],\"carpet\":[{\"aaxis\":{\"endlinecolor\":\"#2a3f5f\",\"gridcolor\":\"white\",\"linecolor\":\"white\",\"minorgridcolor\":\"white\",\"startlinecolor\":\"#2a3f5f\"},\"baxis\":{\"endlinecolor\":\"#2a3f5f\",\"gridcolor\":\"white\",\"linecolor\":\"white\",\"minorgridcolor\":\"white\",\"startlinecolor\":\"#2a3f5f\"},\"type\":\"carpet\"}],\"table\":[{\"cells\":{\"fill\":{\"color\":\"#EBF0F8\"},\"line\":{\"color\":\"white\"}},\"header\":{\"fill\":{\"color\":\"#C8D4E3\"},\"line\":{\"color\":\"white\"}},\"type\":\"table\"}],\"barpolar\":[{\"marker\":{\"line\":{\"color\":\"#E5ECF6\",\"width\":0.5},\"pattern\":{\"fillmode\":\"overlay\",\"size\":10,\"solidity\":0.2}},\"type\":\"barpolar\"}],\"pie\":[{\"automargin\":true,\"type\":\"pie\"}]},\"layout\":{\"autotypenumbers\":\"strict\",\"colorway\":[\"#636efa\",\"#EF553B\",\"#00cc96\",\"#ab63fa\",\"#FFA15A\",\"#19d3f3\",\"#FF6692\",\"#B6E880\",\"#FF97FF\",\"#FECB52\"],\"font\":{\"color\":\"#2a3f5f\"},\"hovermode\":\"closest\",\"hoverlabel\":{\"align\":\"left\"},\"paper_bgcolor\":\"white\",\"plot_bgcolor\":\"#E5ECF6\",\"polar\":{\"bgcolor\":\"#E5ECF6\",\"angularaxis\":{\"gridcolor\":\"white\",\"linecolor\":\"white\",\"ticks\":\"\"},\"radialaxis\":{\"gridcolor\":\"white\",\"linecolor\":\"white\",\"ticks\":\"\"}},\"ternary\":{\"bgcolor\":\"#E5ECF6\",\"aaxis\":{\"gridcolor\":\"white\",\"linecolor\":\"white\",\"ticks\":\"\"},\"baxis\":{\"gridcolor\":\"white\",\"linecolor\":\"white\",\"ticks\":\"\"},\"caxis\":{\"gridcolor\":\"white\",\"linecolor\":\"white\",\"ticks\":\"\"}},\"coloraxis\":{\"colorbar\":{\"outlinewidth\":0,\"ticks\":\"\"}},\"colorscale\":{\"sequential\":[[0.0,\"#0d0887\"],[0.1111111111111111,\"#46039f\"],[0.2222222222222222,\"#7201a8\"],[0.3333333333333333,\"#9c179e\"],[0.4444444444444444,\"#bd3786\"],[0.5555555555555556,\"#d8576b\"],[0.6666666666666666,\"#ed7953\"],[0.7777777777777778,\"#fb9f3a\"],[0.8888888888888888,\"#fdca26\"],[1.0,\"#f0f921\"]],\"sequentialminus\":[[0.0,\"#0d0887\"],[0.1111111111111111,\"#46039f\"],[0.2222222222222222,\"#7201a8\"],[0.3333333333333333,\"#9c179e\"],[0.4444444444444444,\"#bd3786\"],[0.5555555555555556,\"#d8576b\"],[0.6666666666666666,\"#ed7953\"],[0.7777777777777778,\"#fb9f3a\"],[0.8888888888888888,\"#fdca26\"],[1.0,\"#f0f921\"]],\"diverging\":[[0,\"#8e0152\"],[0.1,\"#c51b7d\"],[0.2,\"#de77ae\"],[0.3,\"#f1b6da\"],[0.4,\"#fde0ef\"],[0.5,\"#f7f7f7\"],[0.6,\"#e6f5d0\"],[0.7,\"#b8e186\"],[0.8,\"#7fbc41\"],[0.9,\"#4d9221\"],[1,\"#276419\"]]},\"xaxis\":{\"gridcolor\":\"white\",\"linecolor\":\"white\",\"ticks\":\"\",\"title\":{\"standoff\":15},\"zerolinecolor\":\"white\",\"automargin\":true,\"zerolinewidth\":2},\"yaxis\":{\"gridcolor\":\"white\",\"linecolor\":\"white\",\"ticks\":\"\",\"title\":{\"standoff\":15},\"zerolinecolor\":\"white\",\"automargin\":true,\"zerolinewidth\":2},\"scene\":{\"xaxis\":{\"backgroundcolor\":\"#E5ECF6\",\"gridcolor\":\"white\",\"linecolor\":\"white\",\"showbackground\":true,\"ticks\":\"\",\"zerolinecolor\":\"white\",\"gridwidth\":2},\"yaxis\":{\"backgroundcolor\":\"#E5ECF6\",\"gridcolor\":\"white\",\"linecolor\":\"white\",\"showbackground\":true,\"ticks\":\"\",\"zerolinecolor\":\"white\",\"gridwidth\":2},\"zaxis\":{\"backgroundcolor\":\"#E5ECF6\",\"gridcolor\":\"white\",\"linecolor\":\"white\",\"showbackground\":true,\"ticks\":\"\",\"zerolinecolor\":\"white\",\"gridwidth\":2}},\"shapedefaults\":{\"line\":{\"color\":\"#2a3f5f\"}},\"annotationdefaults\":{\"arrowcolor\":\"#2a3f5f\",\"arrowhead\":0,\"arrowwidth\":1},\"geo\":{\"bgcolor\":\"white\",\"landcolor\":\"#E5ECF6\",\"subunitcolor\":\"white\",\"showland\":true,\"showlakes\":true,\"lakecolor\":\"white\"},\"title\":{\"x\":0.05},\"mapbox\":{\"style\":\"light\"}}},\"xaxis\":{\"anchor\":\"y\",\"domain\":[0.0,1.0],\"title\":{\"text\":\"GDP_Per_Capita\"}},\"yaxis\":{\"anchor\":\"x\",\"domain\":[0.0,1.0],\"title\":{\"text\":\"Internet_Users_Pct\"}},\"legend\":{\"tracegroupgap\":0},\"margin\":{\"t\":60}},                        {\"responsive\": true}                    ).then(function(){\n",
       "                            \n",
       "var gd = document.getElementById('badab5ff-f8d2-4246-91d9-2c17ed115ab5');\n",
       "var x = new MutationObserver(function (mutations, observer) {{\n",
       "        var display = window.getComputedStyle(gd).display;\n",
       "        if (!display || display === 'none') {{\n",
       "            console.log([gd, 'removed!']);\n",
       "            Plotly.purge(gd);\n",
       "            observer.disconnect();\n",
       "        }}\n",
       "}});\n",
       "\n",
       "// Listen for the removal of the full notebook cells\n",
       "var notebookContainer = gd.closest('#notebook-container');\n",
       "if (notebookContainer) {{\n",
       "    x.observe(notebookContainer, {childList: true});\n",
       "}}\n",
       "\n",
       "// Listen for the clearing of the current output cell\n",
       "var outputEl = gd.closest('.output');\n",
       "if (outputEl) {{\n",
       "    x.observe(outputEl, {childList: true});\n",
       "}}\n",
       "\n",
       "                        })                };                });            </script>        </div>"
      ]
     },
     "metadata": {},
     "output_type": "display_data"
    }
   ],
   "source": [
    "#23\n",
    "import plotly.express as px\n",
    "\n",
    "graph = px.scatter(gdp_and_internet_use_2014,\n",
    "    x=gdp_and_internet_use_2014[\"GDP_Per_Capita\"],\n",
    "    y=gdp_and_internet_use_2014[\"Internet_Users_Pct\"],\n",
    "    hover_name=\"Country\", hover_data=[\"GDP_Per_Capita\", \"Internet_Users_Pct\"]\n",
    ")\n",
    "graph.show()"
   ]
  },
  {
   "cell_type": "code",
   "execution_count": 191,
   "id": "c360dd44-58f1-4cb1-98a7-c0ad7916f3cb",
   "metadata": {},
   "outputs": [
    {
     "name": "stderr",
     "output_type": "stream",
     "text": [
      "C:\\Users\\corne\\AppData\\Local\\Temp\\ipykernel_30932\\1721820031.py:2: SettingWithCopyWarning:\n",
      "\n",
      "\n",
      "A value is trying to be set on a copy of a slice from a DataFrame.\n",
      "Try using .loc[row_indexer,col_indexer] = value instead\n",
      "\n",
      "See the caveats in the documentation: https://pandas.pydata.org/pandas-docs/stable/user_guide/indexing.html#returning-a-view-versus-a-copy\n",
      "\n"
     ]
    }
   ],
   "source": [
    "#24\n",
    "gdp_and_internet_use_2014[\"GDP_group\"] = pd.qcut(gdp_and_internet_use_2014.loc[: , (\"GDP_Per_Capita\")], [0,0.33,0.66,1.0], labels=[\"Low\", \"Medium\", \"High\"])"
   ]
  },
  {
   "cell_type": "code",
   "execution_count": 193,
   "id": "117f1937-46d0-450e-ade7-bdd13a0cf106",
   "metadata": {},
   "outputs": [
    {
     "data": {
      "text/plain": [
       "3377.152930164516"
      ]
     },
     "execution_count": 193,
     "metadata": {},
     "output_type": "execute_result"
    }
   ],
   "source": [
    "#25\n",
    "gdp_and_internet_use_2014[\"GDP_Per_Capita\"].loc[gdp_and_internet_use_2014[\"GDP_group\"] == 'Low'].median()"
   ]
  },
  {
   "cell_type": "code",
   "execution_count": 195,
   "id": "a91d2eff-1d0d-461c-b0ee-9bbff86474b9",
   "metadata": {},
   "outputs": [
    {
     "data": {
      "text/plain": [
       "12031.732091628928"
      ]
     },
     "execution_count": 195,
     "metadata": {},
     "output_type": "execute_result"
    }
   ],
   "source": [
    "#25\n",
    "gdp_and_internet_use_2014[\"GDP_Per_Capita\"].loc[gdp_and_internet_use_2014[\"GDP_group\"] == 'Medium'].median()"
   ]
  },
  {
   "cell_type": "code",
   "execution_count": 197,
   "id": "0c2a12cc-1894-4e37-9acf-c351a73311c6",
   "metadata": {},
   "outputs": [
    {
     "data": {
      "text/plain": [
       "37366.69587731947"
      ]
     },
     "execution_count": 197,
     "metadata": {},
     "output_type": "execute_result"
    }
   ],
   "source": [
    "#25\n",
    "gdp_and_internet_use_2014[\"GDP_Per_Capita\"].loc[gdp_and_internet_use_2014[\"GDP_group\"] == 'High'].median()"
   ]
  },
  {
   "cell_type": "code",
   "execution_count": null,
   "id": "8f110708-667a-471b-968c-e14f992c15fd",
   "metadata": {},
   "outputs": [],
   "source": []
  }
 ],
 "metadata": {
  "kernelspec": {
   "display_name": "Python 3 (ipykernel)",
   "language": "python",
   "name": "python3"
  },
  "language_info": {
   "codemirror_mode": {
    "name": "ipython",
    "version": 3
   },
   "file_extension": ".py",
   "mimetype": "text/x-python",
   "name": "python",
   "nbconvert_exporter": "python",
   "pygments_lexer": "ipython3",
   "version": "3.12.4"
  }
 },
 "nbformat": 4,
 "nbformat_minor": 5
}
